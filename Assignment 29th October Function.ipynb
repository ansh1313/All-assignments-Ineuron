{
 "cells": [
  {
   "cell_type": "code",
   "execution_count": 5,
   "id": "1cfdebaa",
   "metadata": {},
   "outputs": [],
   "source": [
    "#1. write a function to find out len of the string without using inbuilt function ?\n",
    "def yes1():\n",
    "    yes = input(\"Enter your desired string:\")\n",
    "    count = 0\n",
    "    for i in yes:\n",
    "        count = count + 1\n",
    "    print(count)"
   ]
  },
  {
   "cell_type": "code",
   "execution_count": 6,
   "id": "d5357beb",
   "metadata": {},
   "outputs": [
    {
     "name": "stdout",
     "output_type": "stream",
     "text": [
      "Enter your desired string:Ineuron\n",
      "7\n"
     ]
    }
   ],
   "source": [
    "yes1()"
   ]
  },
  {
   "cell_type": "code",
   "execution_count": 11,
   "id": "44b000bd",
   "metadata": {},
   "outputs": [
    {
     "name": "stdout",
     "output_type": "stream",
     "text": [
      "Index no of '5258': [1]\n"
     ]
    }
   ],
   "source": [
    "# 2. write a function to print an index of list element without using index function\n",
    "l = ['47','5258','356','225','22']\n",
    "l1 = []\n",
    "for i in range(0,len(l)):\n",
    "    if l[i] == '5258':\n",
    "        l1.append(i)\n",
    "print(f\"Index no of '5258':\",l1)"
   ]
  },
  {
   "cell_type": "code",
   "execution_count": 15,
   "id": "108ce17f",
   "metadata": {},
   "outputs": [
    {
     "name": "stdout",
     "output_type": "stream",
     "text": [
      "Your computer Name is: Guransh-BK13\n",
      "Your computer Ip Address is: 192.168.0.111\n"
     ]
    }
   ],
   "source": [
    "# 3. write a function which will be able to print an ip address of your system\n",
    "import socket\n",
    "hostname = socket.gethostname()\n",
    "IpAddress = socket.gethostbyname(hostname)\n",
    "\n",
    "print(f\"Your computer Name is: {hostname}\")\n",
    "print(f\"Your computer Ip Address is: {IpAddress}\")"
   ]
  },
  {
   "cell_type": "code",
   "execution_count": 17,
   "id": "95809e07",
   "metadata": {},
   "outputs": [
    {
     "name": "stdout",
     "output_type": "stream",
     "text": [
      "Do you wish to shutdown your system ? (yes/no): no\n"
     ]
    }
   ],
   "source": [
    "# 4. write a function which will shutdown your system\n",
    "shutdown = input(\"Do you wish to shutdown your system ? (yes/no): \")\n",
    "if shutdown == \"no\":\n",
    "    exit()\n",
    "else:\n",
    "    os.system(\"shutdown /s /t 1\")"
   ]
  },
  {
   "cell_type": "code",
   "execution_count": 6,
   "id": "3b7cbb00",
   "metadata": {},
   "outputs": [
    {
     "ename": "TypeError",
     "evalue": "can't multiply sequence by non-int of type 'float'",
     "output_type": "error",
     "traceback": [
      "\u001b[1;31m---------------------------------------------------------------------------\u001b[0m",
      "\u001b[1;31mTypeError\u001b[0m                                 Traceback (most recent call last)",
      "Input \u001b[1;32mIn [6]\u001b[0m, in \u001b[0;36m<cell line: 10>\u001b[1;34m()\u001b[0m\n\u001b[0;32m      8\u001b[0m         result \u001b[38;5;241m=\u001b[39m result \u001b[38;5;241m*\u001b[39m x\n\u001b[0;32m      9\u001b[0m     \u001b[38;5;28;01mreturn\u001b[39;00m result\n\u001b[1;32m---> 10\u001b[0m \u001b[38;5;28mprint\u001b[39m(\u001b[43mmultiplyList\u001b[49m\u001b[43m(\u001b[49m\u001b[43ml\u001b[49m\u001b[43m)\u001b[49m)\n",
      "Input \u001b[1;32mIn [6]\u001b[0m, in \u001b[0;36mmultiplyList\u001b[1;34m(myList)\u001b[0m\n\u001b[0;32m      6\u001b[0m result \u001b[38;5;241m=\u001b[39m \u001b[38;5;241m1\u001b[39m\n\u001b[0;32m      7\u001b[0m \u001b[38;5;28;01mfor\u001b[39;00m x \u001b[38;5;129;01min\u001b[39;00m myList:\n\u001b[1;32m----> 8\u001b[0m     result \u001b[38;5;241m=\u001b[39m \u001b[43mresult\u001b[49m\u001b[43m \u001b[49m\u001b[38;5;241;43m*\u001b[39;49m\u001b[43m \u001b[49m\u001b[43mx\u001b[49m\n\u001b[0;32m      9\u001b[0m \u001b[38;5;28;01mreturn\u001b[39;00m result\n",
      "\u001b[1;31mTypeError\u001b[0m: can't multiply sequence by non-int of type 'float'"
     ]
    }
   ],
   "source": [
    "# 5. write a function which will take input as a list with any kind of numeric value and give an out as a multiplication of \n",
    "#all the numeric data l = [3.5, 6.56, 4,5,\"sudh\" , \"ineuron\" , 'fsda bootcamp 2.0']\n",
    "\n",
    "l = [3.5, 6.56, 4,5,\"sudh\" , \"ineuron\" , 'fsda bootcamp 2.0']\n",
    "def multiplyList(myList):\n",
    "    result = 1\n",
    "    for x in myList:\n",
    "        result = result * x\n",
    "    return result\n",
    "print(multiplyList(l))\n"
   ]
  },
  {
   "cell_type": "code",
   "execution_count": 14,
   "id": "1298cd32",
   "metadata": {
    "scrolled": true
   },
   "outputs": [
    {
     "ename": "SMTPAuthenticationError",
     "evalue": "(535, b'5.7.8 Username and Password not accepted. Learn more at\\n5.7.8  https://support.google.com/mail/?p=BadCredentials ix2-20020a170902f80200b001869efb722csm1579221plb.215 - gsmtp')",
     "output_type": "error",
     "traceback": [
      "\u001b[1;31m---------------------------------------------------------------------------\u001b[0m",
      "\u001b[1;31mSMTPAuthenticationError\u001b[0m                   Traceback (most recent call last)",
      "Input \u001b[1;32mIn [14]\u001b[0m, in \u001b[0;36m<cell line: 7>\u001b[1;34m()\u001b[0m\n\u001b[0;32m      8\u001b[0m s \u001b[38;5;241m=\u001b[39m smtplib\u001b[38;5;241m.\u001b[39mSMTP(\u001b[38;5;124m'\u001b[39m\u001b[38;5;124msmtp.gmail.com\u001b[39m\u001b[38;5;124m'\u001b[39m, \u001b[38;5;241m587\u001b[39m)\n\u001b[0;32m      9\u001b[0m s\u001b[38;5;241m.\u001b[39mstarttls()\n\u001b[1;32m---> 10\u001b[0m \u001b[43ms\u001b[49m\u001b[38;5;241;43m.\u001b[39;49m\u001b[43mlogin\u001b[49m\u001b[43m(\u001b[49m\u001b[38;5;124;43m\"\u001b[39;49m\u001b[38;5;124;43msender_email_id\u001b[39;49m\u001b[38;5;124;43m\"\u001b[39;49m\u001b[43m,\u001b[49m\u001b[43m \u001b[49m\u001b[38;5;124;43m\"\u001b[39;49m\u001b[38;5;124;43msender_email_id_password\u001b[39;49m\u001b[38;5;124;43m\"\u001b[39;49m\u001b[43m)\u001b[49m\n\u001b[0;32m     11\u001b[0m message \u001b[38;5;241m=\u001b[39m \u001b[38;5;124m\"\u001b[39m\u001b[38;5;124mMessage_you_need_to_send\u001b[39m\u001b[38;5;124m\"\u001b[39m\n\u001b[0;32m     12\u001b[0m s\u001b[38;5;241m.\u001b[39msendmail(\u001b[38;5;124m\"\u001b[39m\u001b[38;5;124msender_email_id\u001b[39m\u001b[38;5;124m\"\u001b[39m, dest, message)\n",
      "File \u001b[1;32m~\\anaconda3\\lib\\smtplib.py:750\u001b[0m, in \u001b[0;36mSMTP.login\u001b[1;34m(self, user, password, initial_response_ok)\u001b[0m\n\u001b[0;32m    747\u001b[0m         last_exception \u001b[38;5;241m=\u001b[39m e\n\u001b[0;32m    749\u001b[0m \u001b[38;5;66;03m# We could not login successfully.  Return result of last attempt.\u001b[39;00m\n\u001b[1;32m--> 750\u001b[0m \u001b[38;5;28;01mraise\u001b[39;00m last_exception\n",
      "File \u001b[1;32m~\\anaconda3\\lib\\smtplib.py:739\u001b[0m, in \u001b[0;36mSMTP.login\u001b[1;34m(self, user, password, initial_response_ok)\u001b[0m\n\u001b[0;32m    737\u001b[0m method_name \u001b[38;5;241m=\u001b[39m \u001b[38;5;124m'\u001b[39m\u001b[38;5;124mauth_\u001b[39m\u001b[38;5;124m'\u001b[39m \u001b[38;5;241m+\u001b[39m authmethod\u001b[38;5;241m.\u001b[39mlower()\u001b[38;5;241m.\u001b[39mreplace(\u001b[38;5;124m'\u001b[39m\u001b[38;5;124m-\u001b[39m\u001b[38;5;124m'\u001b[39m, \u001b[38;5;124m'\u001b[39m\u001b[38;5;124m_\u001b[39m\u001b[38;5;124m'\u001b[39m)\n\u001b[0;32m    738\u001b[0m \u001b[38;5;28;01mtry\u001b[39;00m:\n\u001b[1;32m--> 739\u001b[0m     (code, resp) \u001b[38;5;241m=\u001b[39m \u001b[38;5;28;43mself\u001b[39;49m\u001b[38;5;241;43m.\u001b[39;49m\u001b[43mauth\u001b[49m\u001b[43m(\u001b[49m\n\u001b[0;32m    740\u001b[0m \u001b[43m        \u001b[49m\u001b[43mauthmethod\u001b[49m\u001b[43m,\u001b[49m\u001b[43m \u001b[49m\u001b[38;5;28;43mgetattr\u001b[39;49m\u001b[43m(\u001b[49m\u001b[38;5;28;43mself\u001b[39;49m\u001b[43m,\u001b[49m\u001b[43m \u001b[49m\u001b[43mmethod_name\u001b[49m\u001b[43m)\u001b[49m\u001b[43m,\u001b[49m\n\u001b[0;32m    741\u001b[0m \u001b[43m        \u001b[49m\u001b[43minitial_response_ok\u001b[49m\u001b[38;5;241;43m=\u001b[39;49m\u001b[43minitial_response_ok\u001b[49m\u001b[43m)\u001b[49m\n\u001b[0;32m    742\u001b[0m     \u001b[38;5;66;03m# 235 == 'Authentication successful'\u001b[39;00m\n\u001b[0;32m    743\u001b[0m     \u001b[38;5;66;03m# 503 == 'Error: already authenticated'\u001b[39;00m\n\u001b[0;32m    744\u001b[0m     \u001b[38;5;28;01mif\u001b[39;00m code \u001b[38;5;129;01min\u001b[39;00m (\u001b[38;5;241m235\u001b[39m, \u001b[38;5;241m503\u001b[39m):\n",
      "File \u001b[1;32m~\\anaconda3\\lib\\smtplib.py:662\u001b[0m, in \u001b[0;36mSMTP.auth\u001b[1;34m(self, mechanism, authobject, initial_response_ok)\u001b[0m\n\u001b[0;32m    660\u001b[0m \u001b[38;5;28;01mif\u001b[39;00m code \u001b[38;5;129;01min\u001b[39;00m (\u001b[38;5;241m235\u001b[39m, \u001b[38;5;241m503\u001b[39m):\n\u001b[0;32m    661\u001b[0m     \u001b[38;5;28;01mreturn\u001b[39;00m (code, resp)\n\u001b[1;32m--> 662\u001b[0m \u001b[38;5;28;01mraise\u001b[39;00m SMTPAuthenticationError(code, resp)\n",
      "\u001b[1;31mSMTPAuthenticationError\u001b[0m: (535, b'5.7.8 Username and Password not accepted. Learn more at\\n5.7.8  https://support.google.com/mail/?p=BadCredentials ix2-20020a170902f80200b001869efb722csm1579221plb.215 - gsmtp')"
     ]
    }
   ],
   "source": [
    "# 7 . write a function which will be able to send a mail to anyone\n",
    "import smtplib\n",
    "\n",
    "# list of email_id to send the mail\n",
    "li = [\"xxxxx@gmail.com\", \"yyyyy@gmail.com\"]\n",
    "\n",
    "for dest in li:\n",
    "    s = smtplib.SMTP('smtp.gmail.com', 587)\n",
    "    s.starttls()\n",
    "    s.login(\"sender_email_id\", \"sender_email_id_password\")\n",
    "    message = \"Message_you_need_to_send\"\n",
    "    s.sendmail(\"sender_email_id\", dest, message)\n",
    "    s.quit()\n"
   ]
  },
  {
   "cell_type": "code",
   "execution_count": null,
   "id": "7e50679e",
   "metadata": {},
   "outputs": [],
   "source": []
  }
 ],
 "metadata": {
  "kernelspec": {
   "display_name": "Python 3 (ipykernel)",
   "language": "python",
   "name": "python3"
  },
  "language_info": {
   "codemirror_mode": {
    "name": "ipython",
    "version": 3
   },
   "file_extension": ".py",
   "mimetype": "text/x-python",
   "name": "python",
   "nbconvert_exporter": "python",
   "pygments_lexer": "ipython3",
   "version": "3.9.12"
  }
 },
 "nbformat": 4,
 "nbformat_minor": 5
}
