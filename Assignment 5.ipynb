{
 "cells": [
  {
   "cell_type": "code",
   "execution_count": 2,
   "id": "3b61619f",
   "metadata": {},
   "outputs": [
    {
     "name": "stdout",
     "output_type": "stream",
     "text": [
      "empty cart: 0\n",
      "6000\n",
      "cart after adding watch: 6000\n",
      "10000\n",
      "cart after adding phone: 16000\n",
      "50000\n",
      "cart after adding laptop: 66000\n",
      "1000\n",
      "cart after adding shirt: 67000\n",
      "total payable amount: 67000\n",
      "What do you want to purchase? : phone\n",
      "item is out of stock please select other item\n",
      "('phone', 10000)\n",
      "item is out of stock please select other item\n",
      "item is out of stock please select other item\n"
     ]
    }
   ],
   "source": [
    "#1\n",
    "amazon_website = [(\"watch\", 6000), (\"phone\", 10000), (\"laptop\", 50000), (\"shirt\", 1000)]\n",
    "total_cost = 0\n",
    "print(f\"empty cart: {total_cost}\")\n",
    "for item in amazon_website:\n",
    "    print(item[1])\n",
    "    total_cost = total_cost + item[1]\n",
    "    print(f\"cart after adding {item[0]}: {total_cost}\")\n",
    "print(f\"total payable amount: {total_cost}\")\n",
    "\n",
    "inventory = input(\"What do you want to purchase? : \")\n",
    "\n",
    "for item in amazon_website:\n",
    "    if item[0] == inventory:\n",
    "        print(item)\n",
    "    else:\n",
    "        print(f\"item is out of stock please select other item\")\n",
    "\n"
   ]
  },
  {
   "cell_type": "code",
   "execution_count": null,
   "id": "0a03d54c",
   "metadata": {},
   "outputs": [],
   "source": [
    "#2 \n",
    "The output will be 234566\n"
   ]
  },
  {
   "cell_type": "code",
   "execution_count": 5,
   "id": "b01f19cc",
   "metadata": {},
   "outputs": [
    {
     "name": "stdout",
     "output_type": "stream",
     "text": [
      "(1, 3, 5, 7, 6, 6, 7, 4, 6, 6, 10)\n",
      "2\n"
     ]
    }
   ],
   "source": [
    "#3\n",
    "tuple1 = 1,3,5,7,6,6,7,4,6,6,10\n",
    "print(tuple1)\n",
    "#Now we will return the number of times it will appears \n",
    "count = tuple1.count(7)\n",
    "print(count)"
   ]
  },
  {
   "cell_type": "code",
   "execution_count": 1,
   "id": "c73ab85c",
   "metadata": {},
   "outputs": [
    {
     "name": "stdout",
     "output_type": "stream",
     "text": [
      "[(10, 20, 500), (40, 50, 500), (70, 80, 500)]\n"
     ]
    }
   ],
   "source": [
    "#4\n",
    "l = [(10, 20, 40), (40, 50, 60), (70, 80, 90)]\n",
    "print([t[:-1] + (500,) for t in l])\n",
    "\n",
    "\n"
   ]
  },
  {
   "cell_type": "code",
   "execution_count": null,
   "id": "90374979",
   "metadata": {},
   "outputs": [],
   "source": []
  }
 ],
 "metadata": {
  "kernelspec": {
   "display_name": "Python 3 (ipykernel)",
   "language": "python",
   "name": "python3"
  },
  "language_info": {
   "codemirror_mode": {
    "name": "ipython",
    "version": 3
   },
   "file_extension": ".py",
   "mimetype": "text/x-python",
   "name": "python",
   "nbconvert_exporter": "python",
   "pygments_lexer": "ipython3",
   "version": "3.9.12"
  }
 },
 "nbformat": 4,
 "nbformat_minor": 5
}
