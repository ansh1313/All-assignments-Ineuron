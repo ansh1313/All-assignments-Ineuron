{
 "cells": [
  {
   "cell_type": "code",
   "execution_count": 9,
   "id": "71bacd94-5d82-4771-818e-1589b72190a9",
   "metadata": {},
   "outputs": [],
   "source": [
    "def test2(a,b):\n",
    "    return a+b"
   ]
  },
  {
   "cell_type": "code",
   "execution_count": 10,
   "id": "7dc99d13-4b14-41be-96a4-67c0f6833783",
   "metadata": {},
   "outputs": [
    {
     "data": {
      "text/plain": [
       "8"
      ]
     },
     "execution_count": 10,
     "metadata": {},
     "output_type": "execute_result"
    }
   ],
   "source": [
    "test2(3,5)"
   ]
  },
  {
   "cell_type": "code",
   "execution_count": 11,
   "id": "84432d0d-010c-46ee-bd82-be1bab227380",
   "metadata": {},
   "outputs": [
    {
     "data": {
      "text/plain": [
       "'Guransh'"
      ]
     },
     "execution_count": 11,
     "metadata": {},
     "output_type": "execute_result"
    }
   ],
   "source": [
    "test2(\"Gur\",\"ansh\")"
   ]
  },
  {
   "cell_type": "code",
   "execution_count": 12,
   "id": "ffb22d30-6cef-4958-9dce-067295d8d556",
   "metadata": {},
   "outputs": [],
   "source": [
    "def test3(*args):\n",
    "    return args"
   ]
  },
  {
   "cell_type": "code",
   "execution_count": 14,
   "id": "1167ad7e-9a7a-4c8a-94e3-dea59fc2c1d6",
   "metadata": {},
   "outputs": [
    {
     "data": {
      "text/plain": [
       "tuple"
      ]
     },
     "execution_count": 14,
     "metadata": {},
     "output_type": "execute_result"
    }
   ],
   "source": [
    "type(test3(1,2,3,4,\"ansh\"))"
   ]
  },
  {
   "cell_type": "code",
   "execution_count": 15,
   "id": "b5478376-9ac8-473e-9bc6-a472a8585b7d",
   "metadata": {},
   "outputs": [
    {
     "data": {
      "text/plain": [
       "([1, 2, 3, 4.3, 8.5], 'ansh', 'mom', (5+6j))"
      ]
     },
     "execution_count": 15,
     "metadata": {},
     "output_type": "execute_result"
    }
   ],
   "source": [
    "test3([1,2,3,4.3,8.5],\"ansh\",\"mom\",5+6j)"
   ]
  },
  {
   "cell_type": "code",
   "execution_count": 16,
   "id": "469fdd44-2c2a-43ad-810e-9637c3e2dca2",
   "metadata": {},
   "outputs": [],
   "source": [
    "def test4(*args):\n",
    "    return list(args)"
   ]
  },
  {
   "cell_type": "code",
   "execution_count": 17,
   "id": "aa404314-1d93-4075-aa6d-90cbd216a918",
   "metadata": {},
   "outputs": [
    {
     "data": {
      "text/plain": [
       "['ansh', True, (8+7j), 145, 36.5]"
      ]
     },
     "execution_count": 17,
     "metadata": {},
     "output_type": "execute_result"
    }
   ],
   "source": [
    "test4(\"ansh\",True,8+7j,145,36.5)"
   ]
  },
  {
   "cell_type": "code",
   "execution_count": 18,
   "id": "62088142-8446-4ec4-965d-fbb31e4c2563",
   "metadata": {},
   "outputs": [],
   "source": [
    "def test5(*args):\n",
    "    l=[]\n",
    "    for i in args:\n",
    "        l.append(i)\n",
    "    return l"
   ]
  },
  {
   "cell_type": "code",
   "execution_count": 19,
   "id": "a36ce914-21bd-44bb-a901-7d8b590b5116",
   "metadata": {},
   "outputs": [
    {
     "data": {
      "text/plain": [
       "[47, 65, 95, 21]"
      ]
     },
     "execution_count": 19,
     "metadata": {},
     "output_type": "execute_result"
    }
   ],
   "source": [
    "test5(47,65,95,21)"
   ]
  },
  {
   "cell_type": "code",
   "execution_count": 21,
   "id": "5d20912c-a4c2-48c5-b32a-f4649dd111a8",
   "metadata": {},
   "outputs": [],
   "source": [
    "def test6(*ansh):\n",
    "    return list(ansh)"
   ]
  },
  {
   "cell_type": "code",
   "execution_count": 22,
   "id": "0787389a-6294-4e67-bfbc-9672c0ad7d27",
   "metadata": {},
   "outputs": [
    {
     "data": {
      "text/plain": [
       "[21, 45, 63, 85]"
      ]
     },
     "execution_count": 22,
     "metadata": {},
     "output_type": "execute_result"
    }
   ],
   "source": [
    "test6(21,45,63,85)"
   ]
  },
  {
   "cell_type": "code",
   "execution_count": 25,
   "id": "b83b7392-ece9-48f6-a3d2-f5019b1f2152",
   "metadata": {},
   "outputs": [],
   "source": [
    "l = [1,2,3,4,5,6]\n",
    "t = (4,5,6,7,8,9,8+4j)\n",
    "s = {12,47,58,8,58,13,12,45,45,85}"
   ]
  },
  {
   "cell_type": "code",
   "execution_count": 24,
   "id": "0cbf2ea9-e931-498c-8469-c7afa36921eb",
   "metadata": {},
   "outputs": [
    {
     "data": {
      "text/plain": [
       "[1, 2, 3, 4, 5, 6]"
      ]
     },
     "execution_count": 24,
     "metadata": {},
     "output_type": "execute_result"
    }
   ],
   "source": [
    "l"
   ]
  },
  {
   "cell_type": "code",
   "execution_count": 26,
   "id": "9b7109f4-5209-42e5-9c7a-1e5e27ea6ec4",
   "metadata": {},
   "outputs": [
    {
     "data": {
      "text/plain": [
       "{8, 12, 13, 45, 47, 58, 85}"
      ]
     },
     "execution_count": 26,
     "metadata": {},
     "output_type": "execute_result"
    }
   ],
   "source": [
    "s"
   ]
  },
  {
   "cell_type": "code",
   "execution_count": 27,
   "id": "6c90276a-83bb-441f-a930-ae35258ecaca",
   "metadata": {},
   "outputs": [],
   "source": [
    "d = {}"
   ]
  },
  {
   "cell_type": "code",
   "execution_count": 28,
   "id": "70607a26-ce1c-4cc4-a895-bf92ccab7651",
   "metadata": {},
   "outputs": [
    {
     "data": {
      "text/plain": [
       "dict"
      ]
     },
     "execution_count": 28,
     "metadata": {},
     "output_type": "execute_result"
    }
   ],
   "source": [
    "type(d)"
   ]
  },
  {
   "cell_type": "code",
   "execution_count": 29,
   "id": "50f2b0d9-0b60-4a56-aad6-70ad26a1dd55",
   "metadata": {},
   "outputs": [],
   "source": [
    "d1 = {\"ansh\":[1,2,4],\"mom\":\"onion\"}"
   ]
  },
  {
   "cell_type": "code",
   "execution_count": 30,
   "id": "2500e4b9-ce0c-446b-bcdd-0cacb43d76f5",
   "metadata": {},
   "outputs": [
    {
     "data": {
      "text/plain": [
       "dict"
      ]
     },
     "execution_count": 30,
     "metadata": {},
     "output_type": "execute_result"
    }
   ],
   "source": [
    "type(d1)"
   ]
  },
  {
   "cell_type": "code",
   "execution_count": 35,
   "id": "9e920da2-f473-40d6-9cf2-584fffbcfe07",
   "metadata": {},
   "outputs": [
    {
     "data": {
      "text/plain": [
       "{'ansh': [1, 2, 4], 'mom': 'onion'}"
      ]
     },
     "execution_count": 35,
     "metadata": {},
     "output_type": "execute_result"
    }
   ],
   "source": [
    "d1"
   ]
  },
  {
   "cell_type": "code",
   "execution_count": 36,
   "id": "73406670-03ff-4fc7-9c56-f0264d4acf3f",
   "metadata": {},
   "outputs": [],
   "source": [
    "d3 = {12254 : \"ash\"}"
   ]
  },
  {
   "cell_type": "code",
   "execution_count": 37,
   "id": "a1e322f8-3350-4458-949f-d1fb45a1eb4e",
   "metadata": {},
   "outputs": [
    {
     "data": {
      "text/plain": [
       "{12254: 'ash'}"
      ]
     },
     "execution_count": 37,
     "metadata": {},
     "output_type": "execute_result"
    }
   ],
   "source": [
    "d3"
   ]
  },
  {
   "cell_type": "code",
   "execution_count": 38,
   "id": "31bbcfb3-b25b-4a0f-ace5-cf8aebf6ba51",
   "metadata": {},
   "outputs": [
    {
     "ename": "TypeError",
     "evalue": "unhashable type: 'list'",
     "output_type": "error",
     "traceback": [
      "\u001b[0;31m---------------------------------------------------------------------------\u001b[0m",
      "\u001b[0;31mTypeError\u001b[0m                                 Traceback (most recent call last)",
      "Cell \u001b[0;32mIn [38], line 1\u001b[0m\n\u001b[0;32m----> 1\u001b[0m d4 \u001b[38;5;241m=\u001b[39m {[\u001b[38;5;241m1\u001b[39m,\u001b[38;5;241m2\u001b[39m,\u001b[38;5;241m3\u001b[39m,\u001b[38;5;241m4\u001b[39m] : \u001b[38;5;124m\"\u001b[39m\u001b[38;5;124mash\u001b[39m\u001b[38;5;124m\"\u001b[39m}\n",
      "\u001b[0;31mTypeError\u001b[0m: unhashable type: 'list'"
     ]
    }
   ],
   "source": [
    "d4 = {[1,2,3,4] : \"ash\"}"
   ]
  },
  {
   "cell_type": "code",
   "execution_count": 39,
   "id": "0dd8e207-d680-4f5b-acff-1e32aae6f777",
   "metadata": {},
   "outputs": [],
   "source": [
    "d5 = {(1,2,3,4) : \"ash\"}"
   ]
  },
  {
   "cell_type": "code",
   "execution_count": 40,
   "id": "3b6f1ddf-4563-473b-b160-47fbfc93cc04",
   "metadata": {},
   "outputs": [
    {
     "data": {
      "text/plain": [
       "{(1, 2, 3, 4): 'ash'}"
      ]
     },
     "execution_count": 40,
     "metadata": {},
     "output_type": "execute_result"
    }
   ],
   "source": [
    "d5"
   ]
  },
  {
   "cell_type": "code",
   "execution_count": 41,
   "id": "75638045-45f0-4411-83dc-21223c254740",
   "metadata": {},
   "outputs": [],
   "source": [
    "d7 = {\"name\" : \"ansh\",\"org\" : \"ineuron\",\"mailID\" : \"zxjf@gmail.com\"}"
   ]
  },
  {
   "cell_type": "code",
   "execution_count": 42,
   "id": "a7ce6d64-bffa-4184-b015-c0da215c8d20",
   "metadata": {},
   "outputs": [
    {
     "data": {
      "text/plain": [
       "{'name': 'ansh', 'org': 'ineuron', 'mailID': 'zxjf@gmail.com'}"
      ]
     },
     "execution_count": 42,
     "metadata": {},
     "output_type": "execute_result"
    }
   ],
   "source": [
    "d7"
   ]
  },
  {
   "cell_type": "code",
   "execution_count": 45,
   "id": "0d168e52-bf5a-4fd4-b531-72b86303ef42",
   "metadata": {},
   "outputs": [
    {
     "data": {
      "text/plain": [
       "'ineuron'"
      ]
     },
     "execution_count": 45,
     "metadata": {},
     "output_type": "execute_result"
    }
   ],
   "source": [
    "d7['org']"
   ]
  },
  {
   "cell_type": "code",
   "execution_count": 60,
   "id": "15ed4bb8-88cd-434f-ac83-571c4c986cc1",
   "metadata": {},
   "outputs": [],
   "source": [
    "d8 = {\"name\" : 'ansh', \"mentor\" : {'aa' : [1,2,4], 'bb' : 'nigb'}, \"mentor2\" : {\"ams\" : [78,25.2,14.36], \"fhgj\" : \"sjfbdjd\"}}"
   ]
  },
  {
   "cell_type": "code",
   "execution_count": 53,
   "id": "cfb3f34b-d8c6-451c-983f-6cee5cfc2dbe",
   "metadata": {},
   "outputs": [
    {
     "data": {
      "text/plain": [
       "'nigb'"
      ]
     },
     "execution_count": 53,
     "metadata": {},
     "output_type": "execute_result"
    }
   ],
   "source": [
    "d8[\"mentor\"][\"bb\"]"
   ]
  },
  {
   "cell_type": "code",
   "execution_count": 54,
   "id": "b37b7009-0dbe-4f44-8541-35636ae4165e",
   "metadata": {},
   "outputs": [
    {
     "data": {
      "text/plain": [
       "dict_items([('name', 'ansh'), ('mentor', {'aa': [1, 2, 4], 'bb': 'nigb'})])"
      ]
     },
     "execution_count": 54,
     "metadata": {},
     "output_type": "execute_result"
    }
   ],
   "source": [
    "d8.items()"
   ]
  },
  {
   "cell_type": "code",
   "execution_count": 55,
   "id": "c859fd4b-2b13-4116-90d1-1c7575d01ef6",
   "metadata": {},
   "outputs": [
    {
     "data": {
      "text/plain": [
       "[[1, 2, 4], 'nigb']"
      ]
     },
     "execution_count": 55,
     "metadata": {},
     "output_type": "execute_result"
    }
   ],
   "source": [
    "list(d8[\"mentor\"].values())"
   ]
  },
  {
   "cell_type": "code",
   "execution_count": 62,
   "id": "6630bd7b-13c1-44df-83f1-a9f2f4378dc3",
   "metadata": {},
   "outputs": [],
   "source": [
    "l = []\n",
    "for i in d8.keys():\n",
    "    if type(d8[i]) == dict:\n",
    "        l.append(d8[i].values())"
   ]
  },
  {
   "cell_type": "code",
   "execution_count": 63,
   "id": "6db78153-ea81-4d39-b612-63894ad014a6",
   "metadata": {},
   "outputs": [
    {
     "data": {
      "text/plain": [
       "[dict_values([[1, 2, 4], 'nigb']), dict_values([[78, 25.2, 14.36], 'sjfbdjd'])]"
      ]
     },
     "execution_count": 63,
     "metadata": {},
     "output_type": "execute_result"
    }
   ],
   "source": [
    "l"
   ]
  },
  {
   "cell_type": "code",
   "execution_count": 64,
   "id": "98bb0caa-9c4d-4860-9a2a-18484055ac8d",
   "metadata": {},
   "outputs": [],
   "source": [
    "def test9(d):\n",
    "    l = []\n",
    "    for i in d8.keys():\n",
    "        if type(d8[i]) == dict:\n",
    "            l.append(d8[i].values())\n",
    "    return l"
   ]
  },
  {
   "cell_type": "code",
   "execution_count": 65,
   "id": "b9bf92a7-dd70-425f-84d4-e9d00b0b781d",
   "metadata": {},
   "outputs": [
    {
     "data": {
      "text/plain": [
       "[dict_values([[1, 2, 4], 'nigb']), dict_values([[78, 25.2, 14.36], 'sjfbdjd'])]"
      ]
     },
     "execution_count": 65,
     "metadata": {},
     "output_type": "execute_result"
    }
   ],
   "source": [
    "test9(d8)"
   ]
  },
  {
   "cell_type": "code",
   "execution_count": 66,
   "id": "56101cd4-2ce5-41c7-8b6d-6bb16890a3ed",
   "metadata": {},
   "outputs": [],
   "source": [
    "d8[\"mobile_number\"] = (2488112)"
   ]
  },
  {
   "cell_type": "code",
   "execution_count": 68,
   "id": "5c3679a1-3c50-4556-bca0-3e3215f4a845",
   "metadata": {},
   "outputs": [
    {
     "data": {
      "text/plain": [
       "{'name': 'ansh',\n",
       " 'mentor': {'aa': [1, 2, 4], 'bb': 'nigb'},\n",
       " 'mentor2': {'ams': [78, 25.2, 14.36], 'fhgj': 'sjfbdjd'},\n",
       " 'mobile_number': 2488112}"
      ]
     },
     "execution_count": 68,
     "metadata": {},
     "output_type": "execute_result"
    }
   ],
   "source": [
    "d8"
   ]
  },
  {
   "cell_type": "code",
   "execution_count": 69,
   "id": "1bae5bfe-c97b-4f90-9538-dcfcaad091ec",
   "metadata": {},
   "outputs": [],
   "source": [
    "def test10(**kwargs):\n",
    "    return kwargs\n",
    "    "
   ]
  },
  {
   "cell_type": "code",
   "execution_count": 70,
   "id": "feb911d9-b50a-49d8-bc5d-0e06822538f2",
   "metadata": {},
   "outputs": [
    {
     "data": {
      "text/plain": [
       "{'a': 4, 'b': 7, 'c': 5, 'ansh': 9}"
      ]
     },
     "execution_count": 70,
     "metadata": {},
     "output_type": "execute_result"
    }
   ],
   "source": [
    "test10(a=4,b=7,c=5,ansh=9)"
   ]
  },
  {
   "cell_type": "code",
   "execution_count": 71,
   "id": "0b4e4a75-ebd6-47a8-b977-1d5594c381b0",
   "metadata": {},
   "outputs": [],
   "source": [
    "def test11(**ansh):\n",
    "    return ansh"
   ]
  },
  {
   "cell_type": "code",
   "execution_count": 72,
   "id": "00d7f2b3-7381-4d0e-8a5a-e6dd46c4a9cd",
   "metadata": {},
   "outputs": [
    {
     "data": {
      "text/plain": [
       "{'x': 'messi', 'y': 'ronaldo'}"
      ]
     },
     "execution_count": 72,
     "metadata": {},
     "output_type": "execute_result"
    }
   ],
   "source": [
    "test11(x = \"messi\" , y = \"ronaldo\")"
   ]
  },
  {
   "cell_type": "code",
   "execution_count": 82,
   "id": "f59cc169-c794-4d43-a585-64d527c2e61c",
   "metadata": {},
   "outputs": [],
   "source": [
    "def test12(a):\n",
    "    return a\n",
    "\n",
    "def test13(*args):\n",
    "    return 'mom'\n",
    "\n",
    "def test14(func):\n",
    "    return func(\"ansh\")"
   ]
  },
  {
   "cell_type": "code",
   "execution_count": 81,
   "id": "2cac50d1-d42c-449c-9817-ce4000a1629e",
   "metadata": {},
   "outputs": [
    {
     "data": {
      "text/plain": [
       "'ansh'"
      ]
     },
     "execution_count": 81,
     "metadata": {},
     "output_type": "execute_result"
    }
   ],
   "source": [
    "test14(test12)"
   ]
  },
  {
   "cell_type": "code",
   "execution_count": 83,
   "id": "03e297cc-d848-44ea-bd18-7202353e7577",
   "metadata": {},
   "outputs": [
    {
     "data": {
      "text/plain": [
       "'mom'"
      ]
     },
     "execution_count": 83,
     "metadata": {},
     "output_type": "execute_result"
    }
   ],
   "source": [
    "test14(test13)"
   ]
  },
  {
   "cell_type": "code",
   "execution_count": 98,
   "id": "c15c8cc1-8065-4f12-9f09-56918304f806",
   "metadata": {},
   "outputs": [],
   "source": [
    "def test15(a):\n",
    "    print(\"this is my test15\")\n",
    "    \n",
    "    def test16():\n",
    "        print(\"this is my test16\")\n",
    "    \n",
    "    def test17():\n",
    "        print(\"this is my test17\")\n",
    "        \n",
    "    if a == \"mom\":\n",
    "        return test16()\n",
    "    elif a == \"ansh\":\n",
    "        return test17()\n",
    "    else:\n",
    "        return test15()"
   ]
  },
  {
   "cell_type": "code",
   "execution_count": 99,
   "id": "e627181a-336b-4e91-b58b-ecd1eca96dc0",
   "metadata": {},
   "outputs": [
    {
     "name": "stdout",
     "output_type": "stream",
     "text": [
      "this is my test15\n",
      "this is my test17\n"
     ]
    }
   ],
   "source": [
    "test15(\"ansh\")"
   ]
  },
  {
   "cell_type": "code",
   "execution_count": 101,
   "id": "874f217f-fe09-4005-885c-4a4905d6c824",
   "metadata": {},
   "outputs": [],
   "source": [
    "def test13(*args):\n",
    "    print(\"this is a return of test13\")"
   ]
  },
  {
   "cell_type": "code",
   "execution_count": 106,
   "id": "61b975d4-a14d-4eab-b723-a2b287b4dc8e",
   "metadata": {},
   "outputs": [],
   "source": [
    "def test18(func):\n",
    "    def test19():\n",
    "        print(\"inside test19\")\n",
    "        func()\n",
    "    return test19()"
   ]
  },
  {
   "cell_type": "code",
   "execution_count": 110,
   "id": "cd5f085f-61bc-415a-8fae-870d8623600f",
   "metadata": {},
   "outputs": [
    {
     "name": "stdout",
     "output_type": "stream",
     "text": [
      "inside test19\n",
      "this is a return of test13\n"
     ]
    }
   ],
   "source": [
    "test18(test13)"
   ]
  },
  {
   "cell_type": "code",
   "execution_count": 146,
   "id": "42e76369-7e52-450c-a450-4faf9d93f5b8",
   "metadata": {},
   "outputs": [],
   "source": [
    "import os\n",
    "def test18(func):\n",
    "    def test19():\n",
    "        print(\"inside test19 and this will behave as a decorator to any function\")\n",
    "        func()\n",
    "    return test19()"
   ]
  },
  {
   "cell_type": "code",
   "execution_count": 147,
   "id": "935c0174-93f2-46dd-a746-fa0acba7a63d",
   "metadata": {},
   "outputs": [
    {
     "name": "stdout",
     "output_type": "stream",
     "text": [
      "inside test19 and this will behave as a decorator to any function\n",
      "this is my test20\n"
     ]
    }
   ],
   "source": [
    "@test18\n",
    "def test20():\n",
    "    print(\"this is my test20\")"
   ]
  },
  {
   "cell_type": "code",
   "execution_count": 113,
   "id": "49728dbe-51e5-4d4b-a551-0e8be7aafe89",
   "metadata": {},
   "outputs": [
    {
     "name": "stdout",
     "output_type": "stream",
     "text": [
      "this is my test20\n"
     ]
    }
   ],
   "source": [
    "test20()"
   ]
  },
  {
   "cell_type": "code",
   "execution_count": 114,
   "id": "6564a2d2-f6fa-422f-b74d-edbe4f4620dc",
   "metadata": {},
   "outputs": [
    {
     "name": "stdout",
     "output_type": "stream",
     "text": [
      "inside test19 and this will behave as a decorator to any function\n",
      "this is my test20\n"
     ]
    }
   ],
   "source": [
    "test18(test20)"
   ]
  },
  {
   "cell_type": "code",
   "execution_count": 148,
   "id": "f90bedc2-78df-42db-9153-e30f457db8c2",
   "metadata": {},
   "outputs": [
    {
     "data": {
      "text/plain": [
       "'/home/jovyan/work'"
      ]
     },
     "execution_count": 148,
     "metadata": {},
     "output_type": "execute_result"
    }
   ],
   "source": [
    "pwd()"
   ]
  },
  {
   "cell_type": "code",
   "execution_count": 150,
   "id": "6851cb7e-91fb-4fc0-9af3-a7a2e2a0fd2a",
   "metadata": {},
   "outputs": [],
   "source": [
    "def test20(func):\n",
    "    def test21():\n",
    "        func()\n",
    "        print(os.getcwd())\n",
    "    return test21"
   ]
  },
  {
   "cell_type": "code",
   "execution_count": 151,
   "id": "01216316-b071-4b44-ba4c-4496991185c8",
   "metadata": {},
   "outputs": [
    {
     "name": "stdout",
     "output_type": "stream",
     "text": [
      "inside test19 and this will behave as a decorator to any function\n",
      "this will print inside test22\n",
      "/home/jovyan/work\n"
     ]
    }
   ],
   "source": [
    "@test18\n",
    "@test20\n",
    "def test22():\n",
    "    print(\"this will print inside test22\")"
   ]
  },
  {
   "cell_type": "code",
   "execution_count": 122,
   "id": "ca2a5be3-52c1-4351-8c14-d0ab45045708",
   "metadata": {},
   "outputs": [
    {
     "name": "stdout",
     "output_type": "stream",
     "text": [
      "this will print inside test22\n"
     ]
    }
   ],
   "source": [
    "test22()"
   ]
  },
  {
   "cell_type": "code",
   "execution_count": 142,
   "id": "ceca4274-0e2c-4821-b66d-b1b8660efa4b",
   "metadata": {},
   "outputs": [
    {
     "name": "stdout",
     "output_type": "stream",
     "text": [
      "hello\n",
      "0.00011181831359863281\n"
     ]
    }
   ],
   "source": [
    "import time\n",
    "\n",
    "start = time.time()\n",
    "print(\"hello\")\n",
    "end = time.time()\n",
    "print(end - start)"
   ]
  },
  {
   "cell_type": "code",
   "execution_count": 143,
   "id": "c7ca7fd5-d5ee-445e-b6be-828411861b65",
   "metadata": {},
   "outputs": [
    {
     "data": {
      "text/plain": [
       "1668254893.1771548"
      ]
     },
     "execution_count": 143,
     "metadata": {},
     "output_type": "execute_result"
    }
   ],
   "source": [
    "time.time()"
   ]
  },
  {
   "cell_type": "code",
   "execution_count": 129,
   "id": "e5b8a27b-5014-4098-9d07-e3a915a22df6",
   "metadata": {},
   "outputs": [],
   "source": [
    "def test25(func):\n",
    "    def test26():\n",
    "        print(\"this will give you execution time of a function\")\n",
    "        start = time.time()\n",
    "        func()\n",
    "        end = time.time()\n",
    "        print(end -start)\n",
    "    return test26"
   ]
  },
  {
   "cell_type": "code",
   "execution_count": 144,
   "id": "b31379ba-d373-4699-8303-988a65d4c794",
   "metadata": {},
   "outputs": [],
   "source": [
    "@test25\n",
    "def test27():\n",
    "    l = [4,5,7,9,5,6]\n",
    "    l1 = []\n",
    "    for i in l:\n",
    "        if type(i) == int:\n",
    "            l1.append(i)\n",
    "    return l1"
   ]
  },
  {
   "cell_type": "code",
   "execution_count": 145,
   "id": "23c7d904-bcf5-4cf6-abf8-2b861394c7be",
   "metadata": {},
   "outputs": [
    {
     "name": "stdout",
     "output_type": "stream",
     "text": [
      "this will give you execution time of a function\n",
      "4.0531158447265625e-06\n"
     ]
    }
   ],
   "source": [
    "test27()"
   ]
  },
  {
   "cell_type": "code",
   "execution_count": null,
   "id": "7fe2314e-2917-40bf-98d2-2790454ef625",
   "metadata": {},
   "outputs": [],
   "source": []
  }
 ],
 "metadata": {
  "kernelspec": {
   "display_name": "Python 3 (ipykernel)",
   "language": "python",
   "name": "python3"
  },
  "language_info": {
   "codemirror_mode": {
    "name": "ipython",
    "version": 3
   },
   "file_extension": ".py",
   "mimetype": "text/x-python",
   "name": "python",
   "nbconvert_exporter": "python",
   "pygments_lexer": "ipython3",
   "version": "3.10.6"
  }
 },
 "nbformat": 4,
 "nbformat_minor": 5
}
