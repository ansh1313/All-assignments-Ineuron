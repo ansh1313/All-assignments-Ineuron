{
 "cells": [
  {
   "cell_type": "code",
   "execution_count": 1,
   "id": "a34067a6",
   "metadata": {},
   "outputs": [],
   "source": [
    "//Revision of previous section\n",
    "class Car:\n",
    "    pass"
   ]
  },
  {
   "cell_type": "code",
   "execution_count": 2,
   "id": "e663e7e7",
   "metadata": {},
   "outputs": [],
   "source": [
    "audi = Car()"
   ]
  },
  {
   "cell_type": "code",
   "execution_count": 3,
   "id": "ae0768f6",
   "metadata": {},
   "outputs": [],
   "source": [
    "audi.mileage=10\n",
    "audi.year=2009\n",
    "audi.make=154\n",
    "audi.model=\"xyz\""
   ]
  },
  {
   "cell_type": "code",
   "execution_count": 4,
   "id": "d08bb38d",
   "metadata": {},
   "outputs": [
    {
     "data": {
      "text/plain": [
       "154"
      ]
     },
     "execution_count": 4,
     "metadata": {},
     "output_type": "execute_result"
    }
   ],
   "source": [
    "audi.make"
   ]
  },
  {
   "cell_type": "code",
   "execution_count": 5,
   "id": "f03a1328",
   "metadata": {},
   "outputs": [
    {
     "data": {
      "text/plain": [
       "10"
      ]
     },
     "execution_count": 5,
     "metadata": {},
     "output_type": "execute_result"
    }
   ],
   "source": [
    "audi.mileage"
   ]
  },
  {
   "cell_type": "code",
   "execution_count": 6,
   "id": "eb312dc6",
   "metadata": {},
   "outputs": [],
   "source": [
    "nano=Car()"
   ]
  },
  {
   "cell_type": "code",
   "execution_count": 8,
   "id": "a5febe96",
   "metadata": {},
   "outputs": [],
   "source": [
    "nano.mileage=67\n",
    "nano.year=2010\n",
    "nano.make=74\n",
    "nano.model=\"Tata\""
   ]
  },
  {
   "cell_type": "code",
   "execution_count": 11,
   "id": "9bfbb2bd",
   "metadata": {},
   "outputs": [],
   "source": [
    "class Car:\n",
    "    def __init__(self,mileage,year,make,model):\n",
    "        self.year=year\n",
    "        self.mileage=mileage\n",
    "        self.make=make\n",
    "        self.model=model"
   ]
  },
  {
   "cell_type": "code",
   "execution_count": 12,
   "id": "96d61abb",
   "metadata": {},
   "outputs": [],
   "source": [
    "nano1=Car(2004,14,25,156)\n",
    "nano2=Car(2005,14,25,156)\n",
    "nano3=Car(2007,14,25,157)\n",
    "nano4=Car(2008,14,25,158)"
   ]
  },
  {
   "cell_type": "code",
   "execution_count": 40,
   "id": "86ba681b",
   "metadata": {},
   "outputs": [],
   "source": [
    "class Car:\n",
    "    def __init__(s,m,y,ma,mo):\n",
    "        s.year=y\n",
    "        s.milage=m\n",
    "        s.make=ma\n",
    "        s.model=mo\n",
    "        \n",
    "    def age(b,current_year):\n",
    "        return current_year-b.year\n",
    "    \n",
    "    def milage1(self):\n",
    "        print(\"Print the mileage of the call\",self.milage)\n",
    "        \n",
    "    def __str__(c):\n",
    "        return \"this is from class i have created\"\n",
    "    "
   ]
  },
  {
   "cell_type": "code",
   "execution_count": 41,
   "id": "b7d7d55d",
   "metadata": {},
   "outputs": [],
   "source": [
    "nano23=Car(2009,12,45,\"vhvvjv\")"
   ]
  },
  {
   "cell_type": "code",
   "execution_count": 42,
   "id": "b9de2edd",
   "metadata": {},
   "outputs": [
    {
     "name": "stdout",
     "output_type": "stream",
     "text": [
      "Print the mileage of the call 2009\n"
     ]
    }
   ],
   "source": [
    "nano23.milage1()"
   ]
  },
  {
   "cell_type": "code",
   "execution_count": 43,
   "id": "c6cc5462",
   "metadata": {},
   "outputs": [
    {
     "name": "stdout",
     "output_type": "stream",
     "text": [
      "this is from class i have created\n"
     ]
    }
   ],
   "source": [
    "print(nano23)"
   ]
  },
  {
   "cell_type": "code",
   "execution_count": 48,
   "id": "0bd343ed",
   "metadata": {},
   "outputs": [],
   "source": [
    "class Person:\n",
    "    def __init__(self,firstname,lastname,age):\n",
    "        self.firstname=firstname\n",
    "        self.lastname=lastname\n",
    "        self.age=age\n",
    "        \n",
    "    def __str__(self):\n",
    "        return \"this is the person class\""
   ]
  },
  {
   "cell_type": "code",
   "execution_count": 49,
   "id": "750a0723",
   "metadata": {},
   "outputs": [],
   "source": [
    "person=Person(\"imran\",\"a\",27)"
   ]
  },
  {
   "cell_type": "code",
   "execution_count": 50,
   "id": "346f8d2d",
   "metadata": {},
   "outputs": [
    {
     "name": "stdout",
     "output_type": "stream",
     "text": [
      "this is the person class\n"
     ]
    }
   ],
   "source": [
    "print(person)"
   ]
  },
  {
   "cell_type": "code",
   "execution_count": 51,
   "id": "0d506a0f",
   "metadata": {},
   "outputs": [
    {
     "data": {
      "text/plain": [
       "27"
      ]
     },
     "execution_count": 51,
     "metadata": {},
     "output_type": "execute_result"
    }
   ],
   "source": [
    "person.age"
   ]
  },
  {
   "cell_type": "code",
   "execution_count": 52,
   "id": "06c9ad35",
   "metadata": {},
   "outputs": [
    {
     "data": {
      "text/plain": [
       "'imran'"
      ]
     },
     "execution_count": 52,
     "metadata": {},
     "output_type": "execute_result"
    }
   ],
   "source": [
    "person.firstname"
   ]
  },
  {
   "cell_type": "code",
   "execution_count": 93,
   "id": "581cc623",
   "metadata": {},
   "outputs": [],
   "source": [
    "class student:\n",
    "    def __init__(self,name,rollno,joining_date,current_topic):\n",
    "        self.name=name\n",
    "        self.rollno=rollno\n",
    "        self.joining_date=joining_date\n",
    "        self.current_topic=current_topic\n",
    "        \n",
    "    def cur_topic(self):\n",
    "        print(\"current topic discussion in class is\",self.current_topic)\n",
    "        \n",
    "    def str_rollno(self):\n",
    "        try:\n",
    "            if type(self.rollno)==str:\n",
    "                print(\"do nothing\")\n",
    "            else:\n",
    "                return str(self.rollno)\n",
    "        except Exception as e:\n",
    "            print(\"this is my error message\",e)\n",
    "            \n",
    "    def duration(self,current_date):\n",
    "            print(\"duration of student in my class is\",current_date- self.joining_date)\n",
    "            \n",
    "    def __str__(self):\n",
    "            return \"this is student class\""
   ]
  },
  {
   "cell_type": "code",
   "execution_count": 94,
   "id": "e72ddb6a",
   "metadata": {},
   "outputs": [],
   "source": [
    "s1=student(\"imran\",45,2007,\"Data Science\")"
   ]
  },
  {
   "cell_type": "code",
   "execution_count": 95,
   "id": "0743c346",
   "metadata": {},
   "outputs": [
    {
     "name": "stdout",
     "output_type": "stream",
     "text": [
      "this is student class\n"
     ]
    }
   ],
   "source": [
    "print(s1)"
   ]
  },
  {
   "cell_type": "code",
   "execution_count": 97,
   "id": "f7f480d0",
   "metadata": {},
   "outputs": [
    {
     "name": "stdout",
     "output_type": "stream",
     "text": [
      "duration of student in my class is 3\n"
     ]
    }
   ],
   "source": [
    "s1.duration(2010)"
   ]
  },
  {
   "cell_type": "code",
   "execution_count": 71,
   "id": "2ac345c4",
   "metadata": {},
   "outputs": [
    {
     "data": {
      "text/plain": [
       "'45'"
      ]
     },
     "execution_count": 71,
     "metadata": {},
     "output_type": "execute_result"
    }
   ],
   "source": [
    "s1.str_rollno()"
   ]
  },
  {
   "cell_type": "code",
   "execution_count": 81,
   "id": "478ed6c2",
   "metadata": {},
   "outputs": [
    {
     "name": "stdout",
     "output_type": "stream",
     "text": [
      "current topic discussion in class is Data Science\n"
     ]
    }
   ],
   "source": [
    "s1.cur_topic()"
   ]
  },
  {
   "cell_type": "code",
   "execution_count": 90,
   "id": "8e5e197b",
   "metadata": {},
   "outputs": [],
   "source": [
    "class student:\n",
    "    def who(self):\n",
    "        print(\"I am a student\")"
   ]
  },
  {
   "cell_type": "code",
   "execution_count": 91,
   "id": "cf4ceb46",
   "metadata": {},
   "outputs": [],
   "source": [
    "s1=student()"
   ]
  },
  {
   "cell_type": "code",
   "execution_count": 92,
   "id": "92cd8dc2",
   "metadata": {},
   "outputs": [
    {
     "name": "stdout",
     "output_type": "stream",
     "text": [
      "I am a student\n"
     ]
    }
   ],
   "source": [
    "s1.who()"
   ]
  },
  {
   "cell_type": "code",
   "execution_count": 100,
   "id": "73f83d81",
   "metadata": {},
   "outputs": [],
   "source": [
    "#Non parametized constructor\n",
    "class Company:\n",
    "    \n",
    "    def __init__(self):\n",
    "        self.name=\"ineuron\"\n",
    "        self.address=\"Bangalore\"\n",
    "        \n",
    "    def show(self):\n",
    "        print(\"name\",self.name,\"address\",self.address)"
   ]
  },
  {
   "cell_type": "code",
   "execution_count": 101,
   "id": "95ff36d9",
   "metadata": {},
   "outputs": [],
   "source": [
    "cmp=Company()"
   ]
  },
  {
   "cell_type": "code",
   "execution_count": 102,
   "id": "a8e5c73a",
   "metadata": {},
   "outputs": [
    {
     "name": "stdout",
     "output_type": "stream",
     "text": [
      "name ineuron address Bangalore\n"
     ]
    }
   ],
   "source": [
    "cmp.show()"
   ]
  },
  {
   "cell_type": "code",
   "execution_count": 128,
   "id": "820f8fb4",
   "metadata": {},
   "outputs": [],
   "source": [
    "# Parametized constructor\n",
    "class pub_mod:\n",
    "    def __init__(self,name,age):\n",
    "        self._name=name\n",
    "        self.age=age\n",
    "    \n",
    "    def age1(self):\n",
    "        print(\"age :\",self.age)"
   ]
  },
  {
   "cell_type": "code",
   "execution_count": 126,
   "id": "4790cb3e",
   "metadata": {},
   "outputs": [],
   "source": [
    "c1=pub_mod(\"imran\",84)"
   ]
  },
  {
   "cell_type": "code",
   "execution_count": 124,
   "id": "30a51b3a",
   "metadata": {},
   "outputs": [
    {
     "name": "stdout",
     "output_type": "stream",
     "text": [
      "age : 84\n"
     ]
    }
   ],
   "source": [
    "c1.age1()"
   ]
  },
  {
   "cell_type": "code",
   "execution_count": 139,
   "id": "ebce2485",
   "metadata": {},
   "outputs": [],
   "source": [
    "#Access Modifiers\n",
    "class Rectangle:\n",
    "    #__length=0\n",
    "    #__breadth=0\n",
    "    \n",
    "    def __init__(self):\n",
    "        self.length=5\n",
    "        self._breadth=3\n",
    "        \n",
    "        print(self.length)\n",
    "        print(self._breadth)"
   ]
  },
  {
   "cell_type": "code",
   "execution_count": 140,
   "id": "92d0c594",
   "metadata": {},
   "outputs": [
    {
     "name": "stdout",
     "output_type": "stream",
     "text": [
      "5\n",
      "3\n"
     ]
    }
   ],
   "source": [
    "r1=Rectangle()"
   ]
  },
  {
   "cell_type": "code",
   "execution_count": 141,
   "id": "75a949ec",
   "metadata": {},
   "outputs": [
    {
     "data": {
      "text/plain": [
       "5"
      ]
     },
     "execution_count": 141,
     "metadata": {},
     "output_type": "execute_result"
    }
   ],
   "source": [
    "r1.length"
   ]
  },
  {
   "cell_type": "code",
   "execution_count": 145,
   "id": "26a03824",
   "metadata": {},
   "outputs": [
    {
     "name": "stdout",
     "output_type": "stream",
     "text": [
      "5\n",
      "3\n",
      "5\n"
     ]
    },
    {
     "ename": "AttributeError",
     "evalue": "'Rectangle' object has no attribute 'breadth'",
     "output_type": "error",
     "traceback": [
      "\u001b[1;31m---------------------------------------------------------------------------\u001b[0m",
      "\u001b[1;31mAttributeError\u001b[0m                            Traceback (most recent call last)",
      "Input \u001b[1;32mIn [145]\u001b[0m, in \u001b[0;36m<cell line: 17>\u001b[1;34m()\u001b[0m\n\u001b[0;32m     15\u001b[0m rect\u001b[38;5;241m=\u001b[39mRectangle()\n\u001b[0;32m     16\u001b[0m \u001b[38;5;28mprint\u001b[39m(rect\u001b[38;5;241m.\u001b[39mlength)\n\u001b[1;32m---> 17\u001b[0m \u001b[38;5;28mprint\u001b[39m(\u001b[43mrect\u001b[49m\u001b[38;5;241;43m.\u001b[39;49m\u001b[43mbreadth\u001b[49m)\n",
      "\u001b[1;31mAttributeError\u001b[0m: 'Rectangle' object has no attribute 'breadth'"
     ]
    }
   ],
   "source": [
    "class Rectangle:\n",
    "    #__length=0\n",
    "    #__breadth=0\n",
    "    \n",
    "    def __init__(self):\n",
    "        self.length=5\n",
    "        self.__breadth=3\n",
    "        \n",
    "        print(self.length)\n",
    "        print(self.__breadth)\n",
    "        \n",
    "    def show(self):\n",
    "        print(\"this is printing private variable\",self.__breadth)\n",
    "        \n",
    "rect=Rectangle()\n",
    "print(rect.length)\n",
    "print(rect.breadth)"
   ]
  },
  {
   "cell_type": "code",
   "execution_count": 146,
   "id": "a1d4c7f2",
   "metadata": {},
   "outputs": [
    {
     "name": "stdout",
     "output_type": "stream",
     "text": [
      "this is printing private variable 3\n"
     ]
    }
   ],
   "source": [
    "rect.show()"
   ]
  },
  {
   "cell_type": "code",
   "execution_count": 148,
   "id": "2aff4c3f",
   "metadata": {},
   "outputs": [
    {
     "data": {
      "text/plain": [
       "3"
      ]
     },
     "execution_count": 148,
     "metadata": {},
     "output_type": "execute_result"
    }
   ],
   "source": [
    "rect._Rectangle__breadth"
   ]
  },
  {
   "cell_type": "code",
   "execution_count": 151,
   "id": "4fb66c75",
   "metadata": {},
   "outputs": [],
   "source": [
    "class test:\n",
    "    def __init__(self):\n",
    "        self.a=6\n",
    "        self.b=5\n",
    "        self.c=8\n",
    "        print(\"public\",self.a,\"protected\",self.b,\"private\",self.c)"
   ]
  },
  {
   "cell_type": "code",
   "execution_count": 152,
   "id": "0149deb1",
   "metadata": {},
   "outputs": [
    {
     "name": "stdout",
     "output_type": "stream",
     "text": [
      "public 6 protected 5 private 8\n"
     ]
    }
   ],
   "source": [
    "t1=test()"
   ]
  },
  {
   "cell_type": "code",
   "execution_count": 153,
   "id": "7803c226",
   "metadata": {},
   "outputs": [
    {
     "data": {
      "text/plain": [
       "6"
      ]
     },
     "execution_count": 153,
     "metadata": {},
     "output_type": "execute_result"
    }
   ],
   "source": [
    "t1.a"
   ]
  },
  {
   "cell_type": "code",
   "execution_count": 154,
   "id": "ea1195b8",
   "metadata": {},
   "outputs": [
    {
     "data": {
      "text/plain": [
       "5"
      ]
     },
     "execution_count": 154,
     "metadata": {},
     "output_type": "execute_result"
    }
   ],
   "source": [
    "t1.b"
   ]
  },
  {
   "cell_type": "code",
   "execution_count": 155,
   "id": "2c022d92",
   "metadata": {},
   "outputs": [
    {
     "data": {
      "text/plain": [
       "8"
      ]
     },
     "execution_count": 155,
     "metadata": {},
     "output_type": "execute_result"
    }
   ],
   "source": [
    "t1.c"
   ]
  },
  {
   "cell_type": "code",
   "execution_count": 169,
   "id": "bee3b9a9",
   "metadata": {},
   "outputs": [],
   "source": [
    "class test:\n",
    "    def __init__(self):\n",
    "        self.a=6\n",
    "        self._b=5\n",
    "        self.__c=8\n",
    "        print(\"public\",self.a,\"protected\",self._b,\"private\",self.__c)\n",
    "        \n",
    "    def show(self):\n",
    "        print(\"protected:\",self._b,\"private\",self.__c)"
   ]
  },
  {
   "cell_type": "code",
   "execution_count": 170,
   "id": "06efc2de",
   "metadata": {},
   "outputs": [
    {
     "name": "stdout",
     "output_type": "stream",
     "text": [
      "public 6 protected 5 private 8\n"
     ]
    }
   ],
   "source": [
    "t2=test()"
   ]
  },
  {
   "cell_type": "code",
   "execution_count": 171,
   "id": "7ed5ccb4",
   "metadata": {},
   "outputs": [
    {
     "name": "stdout",
     "output_type": "stream",
     "text": [
      "protected: 5 private 8\n"
     ]
    }
   ],
   "source": [
    "t2.show()"
   ]
  },
  {
   "cell_type": "code",
   "execution_count": 174,
   "id": "b88037c0",
   "metadata": {},
   "outputs": [
    {
     "data": {
      "text/plain": [
       "8"
      ]
     },
     "execution_count": 174,
     "metadata": {},
     "output_type": "execute_result"
    }
   ],
   "source": [
    "t2._test__c"
   ]
  },
  {
   "cell_type": "code",
   "execution_count": 176,
   "id": "2d1bd6b7",
   "metadata": {},
   "outputs": [
    {
     "data": {
      "text/plain": [
       "5"
      ]
     },
     "execution_count": 176,
     "metadata": {},
     "output_type": "execute_result"
    }
   ],
   "source": [
    "t2._b"
   ]
  },
  {
   "cell_type": "code",
   "execution_count": 199,
   "id": "fff6b2a2",
   "metadata": {},
   "outputs": [],
   "source": [
    "class Tyres:\n",
    "    def __init__(self,branch,belted_bias,opt_pressure):\n",
    "        self.branch=branch\n",
    "        self.belted_bias=belted_bias\n",
    "        self.opt_pressure=opt_pressure\n",
    "        \n",
    "    def __str__(self):\n",
    "        return (\"Tyres:\\n \\tBranch\" + self.branch + \"\\n \\t Belted-bias\"\n",
    "               + str(self.belted_bias) + \"\\n \\t optimal pressure\" +\n",
    "               str(self.opt_pressure))\n",
    "    \n",
    "class Engine:\n",
    "    def __init__(self,fuel_type,noise_level):\n",
    "        self.fuel_type=fuel_type\n",
    "        self.noise_level=noise_level\n",
    "            \n",
    "    def __str__(self):\n",
    "        return (\"Engine \\n \\t Fuel type\" + self.fuel_type + \"\\n \\t Noise level:\" + str(self.noise_level))\n",
    "class Body:\n",
    "        \n",
    "    def __init__(self,size):\n",
    "        self.size=size\n",
    "            \n",
    "    def __str__(self):\n",
    "        return (\"Body:\\n \\t size\" + self.size)\n",
    "        \n",
    "class Car:\n",
    "    def __init__(self,tyres,engine,body):\n",
    "        self.tyres=tyres\n",
    "        self.engine=engine\n",
    "        self.body=body\n",
    "        \n",
    "    def __str__(self):\n",
    "        return (str(self.tyres) + \"\\n\" + str(self.engine) + \"\\n\" + str(self.body))"
   ]
  },
  {
   "cell_type": "code",
   "execution_count": 200,
   "id": "02fa2ac3",
   "metadata": {},
   "outputs": [],
   "source": [
    "t=Tyres(\"bangalore\",True,2.0)\n",
    "e=Engine(\"Petrol\",4)\n",
    "b=Body('Medium')"
   ]
  },
  {
   "cell_type": "code",
   "execution_count": 201,
   "id": "22983369",
   "metadata": {},
   "outputs": [
    {
     "name": "stdout",
     "output_type": "stream",
     "text": [
      "Tyres:\n",
      " \tBranchbangalore\n",
      " \t Belted-biasTrue\n",
      " \t optimal pressure2.0\n",
      "Engine \n",
      " \t Fuel typePetrol\n",
      " \t Noise level:4\n",
      "Body:\n",
      " \t sizeMedium\n"
     ]
    }
   ],
   "source": [
    "c=Car(t,e,b)\n",
    "print(c)"
   ]
  },
  {
   "cell_type": "code",
   "execution_count": null,
   "id": "2c4e3177",
   "metadata": {},
   "outputs": [],
   "source": []
  }
 ],
 "metadata": {
  "kernelspec": {
   "display_name": "Python 3 (ipykernel)",
   "language": "python",
   "name": "python3"
  },
  "language_info": {
   "codemirror_mode": {
    "name": "ipython",
    "version": 3
   },
   "file_extension": ".py",
   "mimetype": "text/x-python",
   "name": "python",
   "nbconvert_exporter": "python",
   "pygments_lexer": "ipython3",
   "version": "3.10.6"
  }
 },
 "nbformat": 4,
 "nbformat_minor": 5
}
