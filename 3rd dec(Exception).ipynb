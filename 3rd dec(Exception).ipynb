{
 "cells": [
  {
   "cell_type": "code",
   "execution_count": 1,
   "id": "8b2beab9",
   "metadata": {},
   "outputs": [
    {
     "ename": "NameError",
     "evalue": "name 'c' is not defined",
     "output_type": "error",
     "traceback": [
      "\u001b[1;31m---------------------------------------------------------------------------\u001b[0m",
      "\u001b[1;31mNameError\u001b[0m                                 Traceback (most recent call last)",
      "Input \u001b[1;32mIn [1]\u001b[0m, in \u001b[0;36m<cell line: 3>\u001b[1;34m()\u001b[0m\n\u001b[0;32m      1\u001b[0m a\u001b[38;5;241m=\u001b[39m\u001b[38;5;241m10\u001b[39m\n\u001b[0;32m      2\u001b[0m b\u001b[38;5;241m=\u001b[39m\u001b[38;5;241m20\u001b[39m\n\u001b[1;32m----> 3\u001b[0m \u001b[38;5;28mprint\u001b[39m(\u001b[38;5;124m\"\u001b[39m\u001b[38;5;124mAddition\u001b[39m\u001b[38;5;124m\"\u001b[39m,a\u001b[38;5;241m+\u001b[39m\u001b[43mc\u001b[49m)\n",
      "\u001b[1;31mNameError\u001b[0m: name 'c' is not defined"
     ]
    }
   ],
   "source": [
    "a=10\n",
    "b=20\n",
    "print(\"Addition\",a+c)"
   ]
  },
  {
   "cell_type": "code",
   "execution_count": 2,
   "id": "33024b32",
   "metadata": {},
   "outputs": [
    {
     "ename": "AssertionError",
     "evalue": "Invalid operation",
     "output_type": "error",
     "traceback": [
      "\u001b[1;31m---------------------------------------------------------------------------\u001b[0m",
      "\u001b[1;31mAssertionError\u001b[0m                            Traceback (most recent call last)",
      "Input \u001b[1;32mIn [2]\u001b[0m, in \u001b[0;36m<cell line: 4>\u001b[1;34m()\u001b[0m\n\u001b[0;32m      2\u001b[0m z\u001b[38;5;241m=\u001b[39m\u001b[38;5;241m1\u001b[39m\n\u001b[0;32m      3\u001b[0m y\u001b[38;5;241m=\u001b[39m\u001b[38;5;241m0\u001b[39m\n\u001b[1;32m----> 4\u001b[0m \u001b[38;5;28;01massert\u001b[39;00m y\u001b[38;5;241m!=\u001b[39m\u001b[38;5;241m0\u001b[39m,\u001b[38;5;124m\"\u001b[39m\u001b[38;5;124mInvalid operation\u001b[39m\u001b[38;5;124m\"\u001b[39m\n\u001b[0;32m      5\u001b[0m \u001b[38;5;28mprint\u001b[39m(x\u001b[38;5;241m/\u001b[39my)\n",
      "\u001b[1;31mAssertionError\u001b[0m: Invalid operation"
     ]
    }
   ],
   "source": [
    "#assertion error\n",
    "z=1\n",
    "y=0\n",
    "assert y!=0,\"Invalid operation\"\n",
    "print(x/y)"
   ]
  },
  {
   "cell_type": "code",
   "execution_count": 3,
   "id": "9519b8bc",
   "metadata": {},
   "outputs": [
    {
     "ename": "AttributeError",
     "evalue": "'int' object has no attribute 'append'",
     "output_type": "error",
     "traceback": [
      "\u001b[1;31m---------------------------------------------------------------------------\u001b[0m",
      "\u001b[1;31mAttributeError\u001b[0m                            Traceback (most recent call last)",
      "Input \u001b[1;32mIn [3]\u001b[0m, in \u001b[0;36m<cell line: 3>\u001b[1;34m()\u001b[0m\n\u001b[0;32m      1\u001b[0m \u001b[38;5;66;03m#attribute error\u001b[39;00m\n\u001b[0;32m      2\u001b[0m y\u001b[38;5;241m=\u001b[39m\u001b[38;5;241m10\u001b[39m\n\u001b[1;32m----> 3\u001b[0m \u001b[43my\u001b[49m\u001b[38;5;241;43m.\u001b[39;49m\u001b[43mappend\u001b[49m(\u001b[38;5;241m6\u001b[39m)\n",
      "\u001b[1;31mAttributeError\u001b[0m: 'int' object has no attribute 'append'"
     ]
    }
   ],
   "source": [
    "#attribute error\n",
    "y=10\n",
    "y.append(6)"
   ]
  },
  {
   "cell_type": "code",
   "execution_count": 7,
   "id": "1d836abc",
   "metadata": {},
   "outputs": [
    {
     "name": "stdout",
     "output_type": "stream",
     "text": [
      "0\n"
     ]
    },
    {
     "ename": "ZeroDivisionError",
     "evalue": "division by zero",
     "output_type": "error",
     "traceback": [
      "\u001b[1;31m---------------------------------------------------------------------------\u001b[0m",
      "\u001b[1;31mZeroDivisionError\u001b[0m                         Traceback (most recent call last)",
      "Input \u001b[1;32mIn [7]\u001b[0m, in \u001b[0;36m<cell line: 3>\u001b[1;34m()\u001b[0m\n\u001b[0;32m      1\u001b[0m a\u001b[38;5;241m=\u001b[39m\u001b[38;5;241m6\u001b[39m\n\u001b[0;32m      2\u001b[0m b\u001b[38;5;241m=\u001b[39m\u001b[38;5;28mint\u001b[39m(\u001b[38;5;28minput\u001b[39m())\n\u001b[1;32m----> 3\u001b[0m \u001b[43ma\u001b[49m\u001b[38;5;241;43m/\u001b[39;49m\u001b[43mb\u001b[49m\n",
      "\u001b[1;31mZeroDivisionError\u001b[0m: division by zero"
     ]
    }
   ],
   "source": [
    "a=6\n",
    "b=int(input())\n",
    "a/b"
   ]
  },
  {
   "cell_type": "code",
   "execution_count": 9,
   "id": "e66cf16f",
   "metadata": {},
   "outputs": [
    {
     "name": "stdout",
     "output_type": "stream",
     "text": [
      "1.1111111111111112\n"
     ]
    }
   ],
   "source": [
    "try:\n",
    "    a=10\n",
    "    b=9\n",
    "    c=a/b\n",
    "    print(c)\n",
    "except:\n",
    "    print(\"cannot divide with zero provide different number\")"
   ]
  },
  {
   "cell_type": "code",
   "execution_count": 11,
   "id": "c6e4a3f7",
   "metadata": {},
   "outputs": [
    {
     "name": "stdout",
     "output_type": "stream",
     "text": [
      "there was a mistake\n",
      "this is outer block\n"
     ]
    }
   ],
   "source": [
    "try:\n",
    "    f=open(\"test.txt\",\"r\")\n",
    "    f.write(\"ineuron\")\n",
    "except:\n",
    "    print(\"there was a mistake\")\n",
    "    \n",
    "print(\"this is outer block\")\n"
   ]
  },
  {
   "cell_type": "code",
   "execution_count": 12,
   "id": "313e5099",
   "metadata": {},
   "outputs": [
    {
     "ename": "FileNotFoundError",
     "evalue": "[Errno 2] No such file or directory: 'test.txt'",
     "output_type": "error",
     "traceback": [
      "\u001b[1;31m---------------------------------------------------------------------------\u001b[0m",
      "\u001b[1;31mFileNotFoundError\u001b[0m                         Traceback (most recent call last)",
      "Input \u001b[1;32mIn [12]\u001b[0m, in \u001b[0;36m<cell line: 1>\u001b[1;34m()\u001b[0m\n\u001b[1;32m----> 1\u001b[0m f\u001b[38;5;241m=\u001b[39m\u001b[38;5;28;43mopen\u001b[39;49m\u001b[43m(\u001b[49m\u001b[38;5;124;43m\"\u001b[39;49m\u001b[38;5;124;43mtest.txt\u001b[39;49m\u001b[38;5;124;43m\"\u001b[39;49m\u001b[43m,\u001b[49m\u001b[38;5;124;43m\"\u001b[39;49m\u001b[38;5;124;43mr\u001b[39;49m\u001b[38;5;124;43m\"\u001b[39;49m\u001b[43m)\u001b[49m\n",
      "\u001b[1;31mFileNotFoundError\u001b[0m: [Errno 2] No such file or directory: 'test.txt'"
     ]
    }
   ],
   "source": [
    "f=open(\"test.txt\",\"r\")"
   ]
  },
  {
   "cell_type": "code",
   "execution_count": 14,
   "id": "362234c2",
   "metadata": {},
   "outputs": [
    {
     "name": "stdout",
     "output_type": "stream",
     "text": [
      "4\n",
      "5\n",
      "6\n",
      "7\n",
      "8\n",
      "9\n",
      "this is not working\n"
     ]
    }
   ],
   "source": [
    "l=[4,5,6,7,8,9]\n",
    "try:\n",
    "    for i in range(len(l)+1):\n",
    "        print(l[i])\n",
    "except:\n",
    "    print(\"this is not working\")"
   ]
  },
  {
   "cell_type": "code",
   "execution_count": 15,
   "id": "2fc454ac",
   "metadata": {},
   "outputs": [
    {
     "name": "stdout",
     "output_type": "stream",
     "text": [
      "4\n",
      "5\n",
      "6\n",
      "7\n",
      "8\n",
      "9\n",
      "9\n",
      "list index out of range\n",
      "this is not working\n"
     ]
    }
   ],
   "source": [
    "l=[4,5,6,7,8,9,9]\n",
    "try:\n",
    "    for i in range(len(l)+1):\n",
    "        print(l[i])\n",
    "except Exception as e:\n",
    "    print(e)\n",
    "    print(\"this is not working\")"
   ]
  },
  {
   "cell_type": "code",
   "execution_count": 17,
   "id": "74e5117d",
   "metadata": {},
   "outputs": [
    {
     "name": "stdout",
     "output_type": "stream",
     "text": [
      "k\n",
      "invalid literal for int() with base 10: 'k'\n",
      "ineuron\n"
     ]
    }
   ],
   "source": [
    "try:\n",
    "    a=int(input())\n",
    "    b=int(input())\n",
    "except Exception as e:\n",
    "    print(e)\n",
    "print(\"ineuron\")"
   ]
  },
  {
   "cell_type": "code",
   "execution_count": 19,
   "id": "e07f1f0e",
   "metadata": {},
   "outputs": [
    {
     "name": "stdout",
     "output_type": "stream",
     "text": [
      "Enter value of a:5\n",
      "Enter value of b:0\n",
      "Cannot divide by zero\n"
     ]
    }
   ],
   "source": [
    "try:\n",
    "    a=int(input(\"Enter value of a:\"))\n",
    "    b=int(input(\"Enter value of b:\"))\n",
    "    c=a/b\n",
    "    print(\"answer\",c)\n",
    "except ValueError:\n",
    "    print(\"Entered value is wrong\")\n",
    "except ZeroDivisionError:\n",
    "    print(\"Cannot divide by zero\")"
   ]
  },
  {
   "cell_type": "code",
   "execution_count": 21,
   "id": "b215bd54",
   "metadata": {},
   "outputs": [
    {
     "name": "stdout",
     "output_type": "stream",
     "text": [
      "entry is a\n",
      "oops <class 'ValueError'> occured\n",
      "next entry\n",
      "entry is 0\n",
      "oops <class 'ZeroDivisionError'> occured\n",
      "next entry\n",
      "entry is 2\n",
      "The reciprocal of 2 is 0.5\n"
     ]
    }
   ],
   "source": [
    "import sys\n",
    "randomList=['a',0,2]\n",
    "for entry in randomList:\n",
    "    try:\n",
    "        print(\"entry is\",entry)\n",
    "        r=1/int(entry)\n",
    "        break\n",
    "    except:\n",
    "        print(\"oops\",sys.exc_info()[0],\"occured\")\n",
    "        print(\"next entry\")\n",
    "print(\"The reciprocal of\",entry,\"is\",r)"
   ]
  },
  {
   "cell_type": "code",
   "execution_count": 22,
   "id": "1e5f5d8c",
   "metadata": {},
   "outputs": [
    {
     "ename": "IndentationError",
     "evalue": "expected an indented block (1676135397.py, line 3)",
     "output_type": "error",
     "traceback": [
      "\u001b[1;36m  Input \u001b[1;32mIn [22]\u001b[1;36m\u001b[0m\n\u001b[1;33m    except Exception:\u001b[0m\n\u001b[1;37m    ^\u001b[0m\n\u001b[1;31mIndentationError\u001b[0m\u001b[1;31m:\u001b[0m expected an indented block\n"
     ]
    }
   ],
   "source": [
    "try:\n",
    "    #block of code\n",
    "except Exception:\n",
    "    # block of code\n",
    "else:\n",
    "    # this code executes when exception not occured"
   ]
  },
  {
   "cell_type": "code",
   "execution_count": 24,
   "id": "3faea10c",
   "metadata": {},
   "outputs": [
    {
     "name": "stdout",
     "output_type": "stream",
     "text": [
      "enter a number:8\n",
      "0.125\n"
     ]
    }
   ],
   "source": [
    "try:\n",
    "    num=int(input(\"enter a number:\"))\n",
    "    assert num % 2 ==0\n",
    "except:\n",
    "    print(\"not a even number\")\n",
    "else:\n",
    "    reciprocal=1/num\n",
    "    print(reciprocal)"
   ]
  },
  {
   "cell_type": "code",
   "execution_count": 26,
   "id": "0c059450",
   "metadata": {},
   "outputs": [
    {
     "name": "stdout",
     "output_type": "stream",
     "text": [
      "Enter value of a:4\n",
      "Enter value of b:2\n",
      "answer 2.0\n",
      "else block:2.0\n"
     ]
    }
   ],
   "source": [
    "try:\n",
    "    a=int(input(\"Enter value of a:\"))\n",
    "    b=int(input(\"Enter value of b:\"))\n",
    "    c=a/b\n",
    "    print(\"answer\",c)\n",
    "except ZeroDivisionError:\n",
    "    print(\"Cannot divide by zero\")\n",
    "else:\n",
    "    print(f\"else block:{c}\")"
   ]
  },
  {
   "cell_type": "code",
   "execution_count": 28,
   "id": "4ef64b6c",
   "metadata": {},
   "outputs": [
    {
     "name": "stdout",
     "output_type": "stream",
     "text": [
      "Enter value of a:6\n",
      "Enter value of b:3\n",
      "answer 2.0\n",
      "from finally block\n"
     ]
    }
   ],
   "source": [
    "try:\n",
    "    a=int(input(\"Enter value of a:\"))\n",
    "    b=int(input(\"Enter value of b:\"))\n",
    "    c=a/b\n",
    "    print(\"answer\",c)\n",
    "except ZeroDivisionError:\n",
    "    print(\"Cannot divide by zero\")\n",
    "finally:\n",
    "    print(\"from finally block\")"
   ]
  },
  {
   "cell_type": "code",
   "execution_count": 30,
   "id": "340f1b93",
   "metadata": {},
   "outputs": [],
   "source": [
    "def divide(x,y):\n",
    "    print(x/y)"
   ]
  },
  {
   "cell_type": "code",
   "execution_count": 31,
   "id": "9b6cf47d",
   "metadata": {},
   "outputs": [
    {
     "name": "stdout",
     "output_type": "stream",
     "text": [
      "5.0\n"
     ]
    },
    {
     "ename": "ZeroDivisionError",
     "evalue": "division by zero",
     "output_type": "error",
     "traceback": [
      "\u001b[1;31m---------------------------------------------------------------------------\u001b[0m",
      "\u001b[1;31mZeroDivisionError\u001b[0m                         Traceback (most recent call last)",
      "Input \u001b[1;32mIn [31]\u001b[0m, in \u001b[0;36m<cell line: 2>\u001b[1;34m()\u001b[0m\n\u001b[0;32m      1\u001b[0m divide(\u001b[38;5;241m10\u001b[39m,\u001b[38;5;241m2\u001b[39m)\n\u001b[1;32m----> 2\u001b[0m \u001b[43mdivide\u001b[49m\u001b[43m(\u001b[49m\u001b[38;5;241;43m10\u001b[39;49m\u001b[43m,\u001b[49m\u001b[38;5;241;43m0\u001b[39;49m\u001b[43m)\u001b[49m\n\u001b[0;32m      3\u001b[0m divide(\u001b[38;5;241m10\u001b[39m,\u001b[38;5;241m4\u001b[39m)\n",
      "Input \u001b[1;32mIn [30]\u001b[0m, in \u001b[0;36mdivide\u001b[1;34m(x, y)\u001b[0m\n\u001b[0;32m      1\u001b[0m \u001b[38;5;28;01mdef\u001b[39;00m \u001b[38;5;21mdivide\u001b[39m(x,y):\n\u001b[1;32m----> 2\u001b[0m     \u001b[38;5;28mprint\u001b[39m(\u001b[43mx\u001b[49m\u001b[38;5;241;43m/\u001b[39;49m\u001b[43my\u001b[49m)\n",
      "\u001b[1;31mZeroDivisionError\u001b[0m: division by zero"
     ]
    }
   ],
   "source": [
    "divide(10,2)\n",
    "divide(10,0)\n",
    "divide(10,4)"
   ]
  },
  {
   "cell_type": "code",
   "execution_count": 32,
   "id": "32989d93",
   "metadata": {},
   "outputs": [],
   "source": [
    "def divide(x,y):\n",
    "    try:\n",
    "        print(x/y)\n",
    "    except ZeroDivisionError as e:\n",
    "        print(e)"
   ]
  },
  {
   "cell_type": "code",
   "execution_count": 33,
   "id": "6d578172",
   "metadata": {},
   "outputs": [
    {
     "name": "stdout",
     "output_type": "stream",
     "text": [
      "5.0\n",
      "division by zero\n",
      "2.5\n"
     ]
    }
   ],
   "source": [
    "divide(10,2)\n",
    "divide(10,0)\n",
    "divide(10,4)"
   ]
  },
  {
   "cell_type": "code",
   "execution_count": 35,
   "id": "4e185b45",
   "metadata": {},
   "outputs": [
    {
     "name": "stdout",
     "output_type": "stream",
     "text": [
      "outer try block\n",
      "nested try block\n",
      "1.0\n"
     ]
    }
   ],
   "source": [
    "x=10\n",
    "y=10\n",
    "try:\n",
    "    print(\"outer try block\")\n",
    "    try:\n",
    "        print(\"nested try block\")\n",
    "        print(x/y)\n",
    "    except TypeError as te:\n",
    "        print(\"nested except block\")\n",
    "        print(te)\n",
    "except ZeroDivisionError as ze:\n",
    "    print(\"outer except block\")\n",
    "    print(ze)"
   ]
  },
  {
   "cell_type": "code",
   "execution_count": 36,
   "id": "ac0a563d",
   "metadata": {},
   "outputs": [],
   "source": [
    "def func1():\n",
    "    flag=True\n",
    "    while flag:\n",
    "        try:\n",
    "            a=int(input(\"enter integer\"))\n",
    "            if type(a)==int:\n",
    "                return \"yes , you have an integer\"\n",
    "            flag=False\n",
    "        except exception as e:\n",
    "            print(\"you did not enter an integer\")"
   ]
  },
  {
   "cell_type": "code",
   "execution_count": 39,
   "id": "1f3b8b49",
   "metadata": {},
   "outputs": [
    {
     "name": "stdout",
     "output_type": "stream",
     "text": [
      "enter integer9\n"
     ]
    },
    {
     "data": {
      "text/plain": [
       "'yes , you have an integer'"
      ]
     },
     "execution_count": 39,
     "metadata": {},
     "output_type": "execute_result"
    }
   ],
   "source": [
    "func1()"
   ]
  },
  {
   "cell_type": "code",
   "execution_count": 42,
   "id": "a39a81d3",
   "metadata": {},
   "outputs": [
    {
     "name": "stdout",
     "output_type": "stream",
     "text": [
      "there is issue with my code\n",
      "(4, 5, 6, 7, 8, 9)\n"
     ]
    }
   ],
   "source": [
    "try:\n",
    "    l=[4,5,6,7,8,9]\n",
    "    l[10]\n",
    "except:\n",
    "    print(\"there is issue with my code\")\n",
    "    t=(4,5,6,7,8,9)\n",
    "    print(t)\n",
    "    try:\n",
    "        t[0]=\"imran\"\n",
    "        try:\n",
    "            list(t)\n",
    "            print(t)\n",
    "        except:\n",
    "            pass\n",
    "    except:\n",
    "        pass\n",
    "else:\n",
    "    print(\"there is no issue with code\")"
   ]
  },
  {
   "cell_type": "code",
   "execution_count": null,
   "id": "a61afad4",
   "metadata": {},
   "outputs": [],
   "source": []
  }
 ],
 "metadata": {
  "kernelspec": {
   "display_name": "Python 3 (ipykernel)",
   "language": "python",
   "name": "python3"
  },
  "language_info": {
   "codemirror_mode": {
    "name": "ipython",
    "version": 3
   },
   "file_extension": ".py",
   "mimetype": "text/x-python",
   "name": "python",
   "nbconvert_exporter": "python",
   "pygments_lexer": "ipython3",
   "version": "3.9.12"
  }
 },
 "nbformat": 4,
 "nbformat_minor": 5
}
