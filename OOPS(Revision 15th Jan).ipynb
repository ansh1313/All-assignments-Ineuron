{
 "cells": [
  {
   "cell_type": "code",
   "execution_count": 1,
   "id": "eab58b2e-7813-48bb-96a7-cb515a9297a4",
   "metadata": {},
   "outputs": [],
   "source": [
    "class test:\n",
    "    def meth1(self):\n",
    "        return \"this is my 1st method\""
   ]
  },
  {
   "cell_type": "code",
   "execution_count": 3,
   "id": "fb317895-85f6-4380-9598-8a312eb10a88",
   "metadata": {},
   "outputs": [],
   "source": [
    "a =test()"
   ]
  },
  {
   "cell_type": "code",
   "execution_count": 4,
   "id": "d021bae1-1ce2-4beb-b365-322b2efa22e4",
   "metadata": {},
   "outputs": [
    {
     "data": {
      "text/plain": [
       "'this is my 1st method'"
      ]
     },
     "execution_count": 4,
     "metadata": {},
     "output_type": "execute_result"
    }
   ],
   "source": [
    "a.meth1()"
   ]
  },
  {
   "cell_type": "code",
   "execution_count": 79,
   "id": "066ae6b6-e73e-4931-9b8c-7b122dcd18ed",
   "metadata": {},
   "outputs": [],
   "source": [
    "class test1:\n",
    "    @staticmethod\n",
    "    def meth1():\n",
    "        return \"this is a method you can access without creating an object\"\n",
    "    \n",
    "    def meth2(self):\n",
    "        return \"this is a meth without static\""
   ]
  },
  {
   "cell_type": "code",
   "execution_count": 80,
   "id": "d3f5cad4-35ea-4902-9794-869152accbe8",
   "metadata": {},
   "outputs": [],
   "source": [
    "b = test1()"
   ]
  },
  {
   "cell_type": "code",
   "execution_count": 81,
   "id": "bc1d521e-c019-462b-8143-5455a9780961",
   "metadata": {},
   "outputs": [
    {
     "data": {
      "text/plain": [
       "'this is a method you can access without creating an object'"
      ]
     },
     "execution_count": 81,
     "metadata": {},
     "output_type": "execute_result"
    }
   ],
   "source": [
    "test1.meth1()"
   ]
  },
  {
   "cell_type": "code",
   "execution_count": 82,
   "id": "7718db77-ff4f-4967-809d-2c5266fcaf02",
   "metadata": {},
   "outputs": [
    {
     "data": {
      "text/plain": [
       "'this is a method you can access without creating an object'"
      ]
     },
     "execution_count": 82,
     "metadata": {},
     "output_type": "execute_result"
    }
   ],
   "source": [
    "b.meth1()"
   ]
  },
  {
   "cell_type": "code",
   "execution_count": 83,
   "id": "a7ef1bc9-cd54-4b6c-ad49-3cb275d52dfb",
   "metadata": {},
   "outputs": [
    {
     "data": {
      "text/plain": [
       "'this is a meth without static'"
      ]
     },
     "execution_count": 83,
     "metadata": {},
     "output_type": "execute_result"
    }
   ],
   "source": [
    "b.meth2()"
   ]
  },
  {
   "cell_type": "code",
   "execution_count": 17,
   "id": "b9098cb4-9293-4a53-bb5d-f40a1b152371",
   "metadata": {},
   "outputs": [],
   "source": [
    "class test2:\n",
    "    def __init__(self,a,b,c):\n",
    "        self.a = a\n",
    "        self.b = b\n",
    "        self.c = c\n",
    "        \n",
    "    def meth1(self):\n",
    "        return \"this is my meth1\"\n",
    "    \n",
    "    def meth2(self,n):\n",
    "        return n\n",
    "    \n",
    "    def meth3(self,m):\n",
    "        return m"
   ]
  },
  {
   "cell_type": "code",
   "execution_count": 18,
   "id": "339839cc-77a3-4025-a9b8-b4de70fa9e52",
   "metadata": {},
   "outputs": [],
   "source": [
    "a_test2 = test2(\"Guransh\",34,\"Singh\")"
   ]
  },
  {
   "cell_type": "code",
   "execution_count": 19,
   "id": "3abbce89-7467-4a86-a35e-9a2ca26cc1ab",
   "metadata": {},
   "outputs": [],
   "source": [
    "b_test2 = test2(\"animesh\",23,\"saini\")"
   ]
  },
  {
   "cell_type": "code",
   "execution_count": 21,
   "id": "a90fba30-6087-46cb-88b5-3eef277c08ed",
   "metadata": {},
   "outputs": [],
   "source": [
    "c_test3 = test2(\"Gaurav\",58,\"Singh\")"
   ]
  },
  {
   "cell_type": "code",
   "execution_count": 26,
   "id": "eedfd74f-cbc0-4090-b0e1-4a0822716722",
   "metadata": {},
   "outputs": [],
   "source": [
    "# Inheritance\n",
    "class parents1:\n",
    "    def parent_meth(self):\n",
    "        return \"this is a parent1 method\"\n",
    "\n",
    "class parents2:\n",
    "    def parent_meth2(self):\n",
    "        return \"this is a parent2 method\"\n",
    "    \n",
    "class parents3:\n",
    "    def parent_meth3(self):\n",
    "        return \"this is a parent3 method\"\n",
    "    \n",
    "class child(parents1,parents2,parents3):\n",
    "    def child_meth(self):\n",
    "        return \"this is my child\""
   ]
  },
  {
   "cell_type": "code",
   "execution_count": 27,
   "id": "13c146a9-6220-49fd-9432-c1591ec773f6",
   "metadata": {},
   "outputs": [],
   "source": [
    "var_child = child()"
   ]
  },
  {
   "cell_type": "code",
   "execution_count": 28,
   "id": "209d30a4-3926-4bff-92e9-90e3ca3e4d1c",
   "metadata": {},
   "outputs": [
    {
     "data": {
      "text/plain": [
       "'this is a parent1 method'"
      ]
     },
     "execution_count": 28,
     "metadata": {},
     "output_type": "execute_result"
    }
   ],
   "source": [
    "var_child.parent_meth()"
   ]
  },
  {
   "cell_type": "code",
   "execution_count": 29,
   "id": "b62c5cdb-5410-4765-b2dd-4235ad47e26f",
   "metadata": {},
   "outputs": [
    {
     "data": {
      "text/plain": [
       "'this is a parent2 method'"
      ]
     },
     "execution_count": 29,
     "metadata": {},
     "output_type": "execute_result"
    }
   ],
   "source": [
    "var_child.parent_meth2()"
   ]
  },
  {
   "cell_type": "code",
   "execution_count": 30,
   "id": "22ad31dd-2559-4139-9ab4-58e57b503618",
   "metadata": {},
   "outputs": [
    {
     "data": {
      "text/plain": [
       "'this is a parent3 method'"
      ]
     },
     "execution_count": 30,
     "metadata": {},
     "output_type": "execute_result"
    }
   ],
   "source": [
    "var_child.parent_meth3()"
   ]
  },
  {
   "cell_type": "code",
   "execution_count": 35,
   "id": "73bec248-9a63-459b-be30-86fe22aea2f8",
   "metadata": {},
   "outputs": [],
   "source": [
    "# Multilevel Inheritance\n",
    "class class1:\n",
    "    def class1_meth(self):\n",
    "        return \"class1 method\"\n",
    "    \n",
    "class class2(class1):\n",
    "    pass\n",
    "\n",
    "class class3(class2):\n",
    "    \n",
    "    def class3_meth(self):\n",
    "        return \"this is my class 3\""
   ]
  },
  {
   "cell_type": "code",
   "execution_count": 36,
   "id": "43d104a9-8549-4cd6-aafe-69b6ea762299",
   "metadata": {},
   "outputs": [],
   "source": [
    "var_class3 = class3()"
   ]
  },
  {
   "cell_type": "code",
   "execution_count": 37,
   "id": "6761f2e1-f8c1-4d45-a077-5c834de01a6b",
   "metadata": {},
   "outputs": [
    {
     "data": {
      "text/plain": [
       "'class1 method'"
      ]
     },
     "execution_count": 37,
     "metadata": {},
     "output_type": "execute_result"
    }
   ],
   "source": [
    "var_class3.class1_meth()"
   ]
  },
  {
   "cell_type": "code",
   "execution_count": 41,
   "id": "f1d5e532-72c0-457a-b5cc-493043b6dbb7",
   "metadata": {},
   "outputs": [],
   "source": [
    "# Method Overriding\n",
    "class test5:\n",
    "    def test(self):\n",
    "        return \"this is my test meth\"\n",
    "\n",
    "class test6:\n",
    "    def test(self):\n",
    "        return \"this is my meth from class test6 called test\"\n",
    "\n",
    "class test7(test5):\n",
    "    def test(self):\n",
    "        return \"this is my test from test7\"\n",
    "    "
   ]
  },
  {
   "cell_type": "code",
   "execution_count": 42,
   "id": "2ead311f-a20d-456a-8962-be2a733141b7",
   "metadata": {},
   "outputs": [],
   "source": [
    "var_classtest7 = test7()"
   ]
  },
  {
   "cell_type": "code",
   "execution_count": 43,
   "id": "331ed341-354f-48ed-b0d5-65693b13b22b",
   "metadata": {},
   "outputs": [
    {
     "data": {
      "text/plain": [
       "'this is my test from test7'"
      ]
     },
     "execution_count": 43,
     "metadata": {},
     "output_type": "execute_result"
    }
   ],
   "source": [
    "var_classtest7.test()"
   ]
  },
  {
   "cell_type": "code",
   "execution_count": 48,
   "id": "59a2fdfd-b819-45d3-8e50-173d75f5215e",
   "metadata": {},
   "outputs": [],
   "source": [
    "# Method Overloading\n",
    "class test8:\n",
    "    def test(self,c=5,b=4,d=7):\n",
    "        return c,b,d"
   ]
  },
  {
   "cell_type": "code",
   "execution_count": 51,
   "id": "4e8cf78f-7d91-43bc-9c3e-073dc78ddb57",
   "metadata": {},
   "outputs": [],
   "source": [
    "var_test8 = test8()"
   ]
  },
  {
   "cell_type": "code",
   "execution_count": 52,
   "id": "8d460bae-431c-4555-be08-bb1816e5a6bd",
   "metadata": {},
   "outputs": [
    {
     "data": {
      "text/plain": [
       "(5, 4, 7)"
      ]
     },
     "execution_count": 52,
     "metadata": {},
     "output_type": "execute_result"
    }
   ],
   "source": [
    "var_test8.test()"
   ]
  },
  {
   "cell_type": "code",
   "execution_count": 53,
   "id": "6771f15f-1254-4543-9247-ee0aa221e80e",
   "metadata": {},
   "outputs": [
    {
     "data": {
      "text/plain": [
       "('Guransh', 4, 7)"
      ]
     },
     "execution_count": 53,
     "metadata": {},
     "output_type": "execute_result"
    }
   ],
   "source": [
    "var_test8.test(\"Guransh\")"
   ]
  },
  {
   "cell_type": "code",
   "execution_count": 55,
   "id": "369892af-5f32-4066-bd35-d6e7b31ef11f",
   "metadata": {},
   "outputs": [
    {
     "data": {
      "text/plain": [
       "('Gur', 'ansh', 7)"
      ]
     },
     "execution_count": 55,
     "metadata": {},
     "output_type": "execute_result"
    }
   ],
   "source": [
    "var_test8.test(\"Gur\",\"ansh\")"
   ]
  },
  {
   "cell_type": "code",
   "execution_count": 56,
   "id": "53cd1ce4-b721-4b52-8213-2400dc10cf69",
   "metadata": {},
   "outputs": [],
   "source": [
    "# Overloading is a situation where number of argument and data type will be different\n",
    "# Overriding is a situation where a signature of the function means name and parameter will same we will just change the definition of the function"
   ]
  },
  {
   "cell_type": "code",
   "execution_count": 70,
   "id": "8a9c2acf-dd80-4ade-85d7-c5e024a766d1",
   "metadata": {},
   "outputs": [],
   "source": [
    "# Polymorphism (same entity but different behavior)\n",
    "def test(a,b):\n",
    "    return a+b"
   ]
  },
  {
   "cell_type": "code",
   "execution_count": 71,
   "id": "dbd82181-f576-42cd-aff8-d3a5cee52941",
   "metadata": {},
   "outputs": [
    {
     "data": {
      "text/plain": [
       "12"
      ]
     },
     "execution_count": 71,
     "metadata": {},
     "output_type": "execute_result"
    }
   ],
   "source": [
    "test(4,8)"
   ]
  },
  {
   "cell_type": "code",
   "execution_count": 72,
   "id": "7845ef37-867b-4ae3-969d-6f513333a827",
   "metadata": {},
   "outputs": [
    {
     "data": {
      "text/plain": [
       "'Guransh'"
      ]
     },
     "execution_count": 72,
     "metadata": {},
     "output_type": "execute_result"
    }
   ],
   "source": [
    "test(\"Gur\",\"ansh\")"
   ]
  },
  {
   "cell_type": "code",
   "execution_count": 76,
   "id": "d6a5acf7-aab7-42d4-b2fc-2a86c88ea7e5",
   "metadata": {},
   "outputs": [],
   "source": [
    "class test1:\n",
    "    def test(self):\n",
    "        return \"this is my meth from test1\"\n",
    "class test2:\n",
    "    def test(self):\n",
    "        return \"this is my meth from test2\"\n",
    "class test3:\n",
    "    def test(self):\n",
    "        return \"this is my meth from test3\""
   ]
  },
  {
   "cell_type": "code",
   "execution_count": 77,
   "id": "74798b86-64ef-4ab2-ac18-c723b627bab0",
   "metadata": {},
   "outputs": [],
   "source": [
    "var_class = [test1(),test2(),test3()]"
   ]
  },
  {
   "cell_type": "code",
   "execution_count": 78,
   "id": "eb7c82ce-c911-43c1-986e-33b8f5b4a591",
   "metadata": {},
   "outputs": [
    {
     "name": "stdout",
     "output_type": "stream",
     "text": [
      "this is my meth from test1\n",
      "this is my meth from test2\n",
      "this is my meth from test3\n"
     ]
    }
   ],
   "source": [
    "for i in var_class:\n",
    "    print(i.test())"
   ]
  },
  {
   "cell_type": "code",
   "execution_count": 131,
   "id": "9d3efc6c-c3e9-4cbf-9f99-71b8daecd495",
   "metadata": {},
   "outputs": [],
   "source": [
    "#q1 : create a file class for reading a data from one of the file with a method name read and write\n",
    "#use logging,exception handling\n",
    "def read():\n",
    "    try:\n",
    "        with open('test.txt','r') as file:\n",
    "            data = file.read\n",
    "            return data\n",
    "    except FileNotFoundError as e:\n",
    "        print(e)"
   ]
  },
  {
   "cell_type": "code",
   "execution_count": 132,
   "id": "2229c3d9-e136-4e1c-8ef6-b9c6e1d4ecf6",
   "metadata": {},
   "outputs": [
    {
     "name": "stdout",
     "output_type": "stream",
     "text": [
      "[Errno 2] No such file or directory: 'test.txt'\n"
     ]
    }
   ],
   "source": [
    "read()"
   ]
  },
  {
   "cell_type": "code",
   "execution_count": 133,
   "id": "93c3f19f-aab1-4c5f-881c-801e80bb7f30",
   "metadata": {},
   "outputs": [],
   "source": [
    "def write():\n",
    "    with open(\"test.txt\",\"w\") as file:\n",
    "        data = file.write(\"this is my data for file\")"
   ]
  },
  {
   "cell_type": "code",
   "execution_count": 134,
   "id": "6bbcf360-f004-4974-81e6-7b401153c073",
   "metadata": {},
   "outputs": [],
   "source": [
    "write()"
   ]
  },
  {
   "cell_type": "code",
   "execution_count": 1,
   "id": "9372b0a1-ac56-466f-921d-186aca7145b3",
   "metadata": {},
   "outputs": [],
   "source": [
    "import logging\n",
    "\n",
    "logging.basicConfig(filename='file_class.log', level=logging.DEBUG , filemode='w', format=\"%(asctime)s %(levelname)s %(message)s\")\n",
    "\n",
    "class file : \n",
    "    def __init__(self , filename)  :\n",
    "        self.filename = filename \n",
    "                    \n",
    "    def read(self):\n",
    "        logging.info(\"This is a start of read operation \" )\n",
    "        try :\n",
    "            logging.info(\"i am inside try block of read method \")\n",
    "            with open(self.filename , 'r') as file :\n",
    "                data = file.read()\n",
    "                logging.info(\"I am able to read the file \")\n",
    "                return data\n",
    "        except FileNotFoundError as e :\n",
    "            #print(e)\n",
    "            logging.error(\"there is some issue with  the read file operation\")\n",
    "            logging.error(e)\n",
    "        \n",
    "    def write(self,data1):\n",
    "        try: \n",
    "            logging.info(\"i am inside a try to write fun\")\n",
    "            with open(self.filename, 'a') as file :\n",
    "                data = file.write(data1) \n",
    "                logging.info(\"i am able to write a data into file succesfully\")\n",
    "        except Exception as e : \n",
    "            #print(e)\n",
    "            logging.error(\"there is an issue with write ops\")\n",
    "            logging.error(e)"
   ]
  },
  {
   "cell_type": "code",
   "execution_count": 4,
   "id": "9c93ab30-d4fe-4be9-860c-76cf19e1cbc1",
   "metadata": {},
   "outputs": [
    {
     "data": {
      "text/plain": [
       "'this is my data to be written inside my file'"
      ]
     },
     "execution_count": 4,
     "metadata": {},
     "output_type": "execute_result"
    }
   ],
   "source": [
    "file_obj = file(\"test1.txt\")\n",
    "file_obj.read()"
   ]
  },
  {
   "cell_type": "code",
   "execution_count": 5,
   "id": "34c4ec21-3892-4a91-88f5-369dca3bf9b5",
   "metadata": {},
   "outputs": [],
   "source": [
    "file_obj.write(\"this is my data to be written inside my file\")"
   ]
  },
  {
   "cell_type": "code",
   "execution_count": 6,
   "id": "599c230d-2852-42e3-86f2-36efbffd9796",
   "metadata": {},
   "outputs": [
    {
     "data": {
      "text/plain": [
       "'this is my data to be written inside my filethis is my data to be written inside my file'"
      ]
     },
     "execution_count": 6,
     "metadata": {},
     "output_type": "execute_result"
    }
   ],
   "source": [
    "file_obj.read()"
   ]
  },
  {
   "cell_type": "code",
   "execution_count": null,
   "id": "eadcbabd-ea7c-436e-b4fe-cb8a17a2f16c",
   "metadata": {},
   "outputs": [],
   "source": []
  }
 ],
 "metadata": {
  "kernelspec": {
   "display_name": "Python 3 (ipykernel)",
   "language": "python",
   "name": "python3"
  },
  "language_info": {
   "codemirror_mode": {
    "name": "ipython",
    "version": 3
   },
   "file_extension": ".py",
   "mimetype": "text/x-python",
   "name": "python",
   "nbconvert_exporter": "python",
   "pygments_lexer": "ipython3",
   "version": "3.10.6"
  }
 },
 "nbformat": 4,
 "nbformat_minor": 5
}
