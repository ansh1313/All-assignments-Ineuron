{
 "cells": [
  {
   "cell_type": "code",
   "execution_count": 34,
   "id": "af3557dc-1677-4949-a3f7-778f2eb340c8",
   "metadata": {},
   "outputs": [],
   "source": [
    "def test1(func):\n",
    "    def test2():\n",
    "        print(\"i am inside test2\")\n",
    "        func()\n",
    "        print(func())\n",
    "        print(\"function executed\")\n",
    "        return func()\n",
    "    return test2"
   ]
  },
  {
   "cell_type": "code",
   "execution_count": 24,
   "id": "e1a96a89-912e-41c2-9a9a-b519d2e47b17",
   "metadata": {},
   "outputs": [],
   "source": [
    "@test1\n",
    "def test3():\n",
    "    print(\"this is my test3\")"
   ]
  },
  {
   "cell_type": "code",
   "execution_count": 25,
   "id": "dbf155ef-e536-4481-8a5a-fb9cb920ea53",
   "metadata": {},
   "outputs": [
    {
     "name": "stdout",
     "output_type": "stream",
     "text": [
      "i am inside test2\n",
      "this is my test3\n",
      "function executed\n"
     ]
    }
   ],
   "source": [
    "test3()"
   ]
  },
  {
   "cell_type": "code",
   "execution_count": 7,
   "id": "875c9d3a-463d-49a8-adc2-8368ee83603d",
   "metadata": {},
   "outputs": [
    {
     "data": {
      "text/plain": [
       "<function __main__.test1.<locals>.test2()>"
      ]
     },
     "execution_count": 7,
     "metadata": {},
     "output_type": "execute_result"
    }
   ],
   "source": [
    "test1(test3())"
   ]
  },
  {
   "cell_type": "code",
   "execution_count": 35,
   "id": "4e470511-54ad-4de1-be62-c5199c8f2b14",
   "metadata": {},
   "outputs": [],
   "source": [
    "@test1\n",
    "def test4():\n",
    "    return 5+6"
   ]
  },
  {
   "cell_type": "code",
   "execution_count": 36,
   "id": "cef4e2fc-e611-4953-a89f-02af5b460c80",
   "metadata": {},
   "outputs": [
    {
     "name": "stdout",
     "output_type": "stream",
     "text": [
      "i am inside test2\n",
      "11\n",
      "function executed\n"
     ]
    },
    {
     "data": {
      "text/plain": [
       "int"
      ]
     },
     "execution_count": 36,
     "metadata": {},
     "output_type": "execute_result"
    }
   ],
   "source": [
    "type(test4())"
   ]
  },
  {
   "cell_type": "code",
   "execution_count": 29,
   "id": "f5e4661e-a511-461b-8dd6-f46c4688daa1",
   "metadata": {},
   "outputs": [
    {
     "name": "stdout",
     "output_type": "stream",
     "text": [
      "i am inside test2\n",
      "11\n",
      "function executed\n"
     ]
    }
   ],
   "source": [
    "a = test4()"
   ]
  },
  {
   "cell_type": "code",
   "execution_count": 19,
   "id": "b5023157-168b-4ce1-af09-dc7107b6fc71",
   "metadata": {},
   "outputs": [],
   "source": [
    "a"
   ]
  },
  {
   "cell_type": "code",
   "execution_count": 20,
   "id": "f0016246-9230-4426-8aed-6939e1ee74e6",
   "metadata": {},
   "outputs": [
    {
     "name": "stdout",
     "output_type": "stream",
     "text": [
      "None\n"
     ]
    }
   ],
   "source": [
    "print(a)"
   ]
  },
  {
   "cell_type": "code",
   "execution_count": 30,
   "id": "72055436-5306-402c-93e8-6e9383570364",
   "metadata": {},
   "outputs": [],
   "source": [
    "def test5():\n",
    "    return 4+5"
   ]
  },
  {
   "cell_type": "code",
   "execution_count": 31,
   "id": "fda1592c-9af1-4398-8e9e-e0374afbfe52",
   "metadata": {},
   "outputs": [
    {
     "data": {
      "text/plain": [
       "9"
      ]
     },
     "execution_count": 31,
     "metadata": {},
     "output_type": "execute_result"
    }
   ],
   "source": [
    "test5()"
   ]
  },
  {
   "cell_type": "code",
   "execution_count": 37,
   "id": "6e268764-914e-4a14-8ed2-497733159d20",
   "metadata": {},
   "outputs": [
    {
     "data": {
      "text/plain": [
       "65"
      ]
     },
     "execution_count": 37,
     "metadata": {},
     "output_type": "execute_result"
    }
   ],
   "source": [
    "test5() + 56"
   ]
  },
  {
   "cell_type": "code",
   "execution_count": 38,
   "id": "efc378ad-6fb7-437b-b15d-f27a2d169aa1",
   "metadata": {},
   "outputs": [
    {
     "name": "stdout",
     "output_type": "stream",
     "text": [
      "i am inside test2\n",
      "11\n",
      "function executed\n"
     ]
    },
    {
     "data": {
      "text/plain": [
       "66"
      ]
     },
     "execution_count": 38,
     "metadata": {},
     "output_type": "execute_result"
    }
   ],
   "source": [
    "test4() + 55"
   ]
  },
  {
   "cell_type": "code",
   "execution_count": 78,
   "id": "76b64db1-52b4-4c47-845f-3b2dd07c1fd5",
   "metadata": {},
   "outputs": [],
   "source": [
    "def test6(func):\n",
    "    def test7(*args,**kwargs):\n",
    "        func(*args,**kwargs)\n",
    "        print(\"this is my decorator func\")\n",
    "        return func(*args,**kwargs)\n",
    "    return test7"
   ]
  },
  {
   "cell_type": "code",
   "execution_count": 46,
   "id": "cde971d1-5f80-43d0-a6af-ce79b9b7fe09",
   "metadata": {},
   "outputs": [],
   "source": [
    "def test8():\n",
    "    return 5+7"
   ]
  },
  {
   "cell_type": "code",
   "execution_count": 47,
   "id": "ebb909b4-a1df-4fdf-9134-377825c2bd71",
   "metadata": {},
   "outputs": [
    {
     "data": {
      "text/plain": [
       "24"
      ]
     },
     "execution_count": 47,
     "metadata": {},
     "output_type": "execute_result"
    }
   ],
   "source": [
    "test8() + 12"
   ]
  },
  {
   "cell_type": "code",
   "execution_count": 62,
   "id": "5619ae2d-32ad-4912-8fc2-2fb535426354",
   "metadata": {},
   "outputs": [],
   "source": [
    "@test6\n",
    "def test8():\n",
    "    return 5+7"
   ]
  },
  {
   "cell_type": "code",
   "execution_count": 50,
   "id": "ac89c289-bdcc-4498-8f71-18b37589f90b",
   "metadata": {},
   "outputs": [
    {
     "name": "stdout",
     "output_type": "stream",
     "text": [
      "this is my decorator func\n"
     ]
    },
    {
     "data": {
      "text/plain": [
       "112"
      ]
     },
     "execution_count": 50,
     "metadata": {},
     "output_type": "execute_result"
    }
   ],
   "source": [
    "test8() + 100"
   ]
  },
  {
   "cell_type": "code",
   "execution_count": 70,
   "id": "8d76f35e-fd54-4c5f-a549-8db9f440f5ae",
   "metadata": {},
   "outputs": [],
   "source": [
    "def test8(a,b,c):\n",
    "    return a*b+c"
   ]
  },
  {
   "cell_type": "code",
   "execution_count": 71,
   "id": "3b664239-1cee-4412-9861-4af80855313f",
   "metadata": {},
   "outputs": [
    {
     "data": {
      "text/plain": [
       "22"
      ]
     },
     "execution_count": 71,
     "metadata": {},
     "output_type": "execute_result"
    }
   ],
   "source": [
    "test8(4,5,2)"
   ]
  },
  {
   "cell_type": "code",
   "execution_count": 72,
   "id": "7883760a-4625-40c5-91c8-4daab8c10200",
   "metadata": {},
   "outputs": [],
   "source": [
    "@test6\n",
    "def test8(a,b):\n",
    "    return a+b"
   ]
  },
  {
   "cell_type": "code",
   "execution_count": 75,
   "id": "554b3fec-e7d3-49db-9dad-d3e0e6037d0f",
   "metadata": {},
   "outputs": [
    {
     "name": "stdout",
     "output_type": "stream",
     "text": [
      "this is my decorator func\n"
     ]
    },
    {
     "data": {
      "text/plain": [
       "'guransh'"
      ]
     },
     "execution_count": 75,
     "metadata": {},
     "output_type": "execute_result"
    }
   ],
   "source": [
    "test8(\"gura\",\"nsh\")"
   ]
  },
  {
   "cell_type": "code",
   "execution_count": 80,
   "id": "0af48b9a-2268-406a-85aa-55553731ddd8",
   "metadata": {},
   "outputs": [],
   "source": [
    "@test6\n",
    "def test9(**kwargs):\n",
    "    return kwargs"
   ]
  },
  {
   "cell_type": "code",
   "execution_count": 81,
   "id": "0cb89ddf-c036-4386-9e08-5aeca2bfd98c",
   "metadata": {},
   "outputs": [
    {
     "name": "stdout",
     "output_type": "stream",
     "text": [
      "this is my decorator func\n"
     ]
    },
    {
     "data": {
      "text/plain": [
       "{'a': 89, 'b': 17}"
      ]
     },
     "execution_count": 81,
     "metadata": {},
     "output_type": "execute_result"
    }
   ],
   "source": [
    "test9(a=89,b=17)"
   ]
  },
  {
   "cell_type": "code",
   "execution_count": 82,
   "id": "8135209d-a97f-48c9-847b-5d44e1215ac6",
   "metadata": {},
   "outputs": [],
   "source": [
    "def test10(a,b):\n",
    "    return a+b"
   ]
  },
  {
   "cell_type": "code",
   "execution_count": 83,
   "id": "378b2043-8f25-4594-9084-5f8b40455330",
   "metadata": {},
   "outputs": [
    {
     "data": {
      "text/plain": [
       "10"
      ]
     },
     "execution_count": 83,
     "metadata": {},
     "output_type": "execute_result"
    }
   ],
   "source": [
    "test10(4,6)"
   ]
  },
  {
   "cell_type": "code",
   "execution_count": 86,
   "id": "ee6dfe14-2589-4c9e-83f1-5a49ae65e97a",
   "metadata": {},
   "outputs": [],
   "source": [
    "c = lambda a,b : a+b"
   ]
  },
  {
   "cell_type": "code",
   "execution_count": 87,
   "id": "93bd9360-96b0-4895-a3bc-4c1f2d8b34d3",
   "metadata": {},
   "outputs": [
    {
     "data": {
      "text/plain": [
       "<function __main__.test10(a, b)>"
      ]
     },
     "execution_count": 87,
     "metadata": {},
     "output_type": "execute_result"
    }
   ],
   "source": [
    "test10"
   ]
  },
  {
   "cell_type": "code",
   "execution_count": 88,
   "id": "5b263b0a-e7d3-4f06-8cb5-3edd06397bca",
   "metadata": {},
   "outputs": [
    {
     "data": {
      "text/plain": [
       "'Guransh'"
      ]
     },
     "execution_count": 88,
     "metadata": {},
     "output_type": "execute_result"
    }
   ],
   "source": [
    "c(\"Gur\",\"ansh\")"
   ]
  },
  {
   "cell_type": "code",
   "execution_count": 1,
   "id": "3a059587-59bb-4876-a897-db47b74fd46c",
   "metadata": {},
   "outputs": [],
   "source": [
    "d = lambda a,b,c,d : a*b+c/d"
   ]
  },
  {
   "cell_type": "code",
   "execution_count": 2,
   "id": "9001b09d-5ce0-427b-a7a1-4555cc2ba516",
   "metadata": {},
   "outputs": [
    {
     "data": {
      "text/plain": [
       "12.833333333333334"
      ]
     },
     "execution_count": 2,
     "metadata": {},
     "output_type": "execute_result"
    }
   ],
   "source": [
    "d(3,4,5,6)"
   ]
  },
  {
   "cell_type": "code",
   "execution_count": 3,
   "id": "f231a7f5-0da6-4ae7-8e25-4d6124dc6526",
   "metadata": {},
   "outputs": [],
   "source": [
    "e = lambda *args : args"
   ]
  },
  {
   "cell_type": "code",
   "execution_count": 4,
   "id": "b9c4beea-bf78-4dbd-bef6-a5bcdfd3aebb",
   "metadata": {},
   "outputs": [
    {
     "data": {
      "text/plain": [
       "()"
      ]
     },
     "execution_count": 4,
     "metadata": {},
     "output_type": "execute_result"
    }
   ],
   "source": [
    "e()"
   ]
  },
  {
   "cell_type": "code",
   "execution_count": 5,
   "id": "f3e6df1b-092d-4930-8cbd-e25752fba117",
   "metadata": {},
   "outputs": [
    {
     "data": {
      "text/plain": [
       "(1, 2, 3)"
      ]
     },
     "execution_count": 5,
     "metadata": {},
     "output_type": "execute_result"
    }
   ],
   "source": [
    "e(1,2,3)"
   ]
  },
  {
   "cell_type": "code",
   "execution_count": 6,
   "id": "d0e0ebae-baa9-4553-8a68-08b140b555e4",
   "metadata": {},
   "outputs": [],
   "source": [
    "#map()"
   ]
  },
  {
   "cell_type": "code",
   "execution_count": 9,
   "id": "26ea4094-88a8-4063-b111-65329844e35d",
   "metadata": {},
   "outputs": [],
   "source": [
    "l = [1,2,3,4,5,6]"
   ]
  },
  {
   "cell_type": "code",
   "execution_count": 10,
   "id": "98998cfb-bcae-4738-8fa5-86c8092409f0",
   "metadata": {},
   "outputs": [],
   "source": [
    "l1 = []\n",
    "for i in l:\n",
    "    l1.append(i+10)"
   ]
  },
  {
   "cell_type": "code",
   "execution_count": 11,
   "id": "46955b68-ab9d-4030-ae83-2293e79235a6",
   "metadata": {},
   "outputs": [
    {
     "data": {
      "text/plain": [
       "[11, 12, 13, 14, 15, 16]"
      ]
     },
     "execution_count": 11,
     "metadata": {},
     "output_type": "execute_result"
    }
   ],
   "source": [
    "l1"
   ]
  },
  {
   "cell_type": "code",
   "execution_count": 12,
   "id": "153f1797-0f86-4aba-9814-0b5b362604a4",
   "metadata": {},
   "outputs": [],
   "source": [
    "def test14(a):\n",
    "    return a + 10"
   ]
  },
  {
   "cell_type": "code",
   "execution_count": 13,
   "id": "4abe9d82-b44a-4a54-b353-8aa25b6a9a65",
   "metadata": {},
   "outputs": [
    {
     "data": {
      "text/plain": [
       "[11, 12, 13, 14, 15, 16]"
      ]
     },
     "execution_count": 13,
     "metadata": {},
     "output_type": "execute_result"
    }
   ],
   "source": [
    "list(map(test14,l))"
   ]
  },
  {
   "cell_type": "code",
   "execution_count": 14,
   "id": "7fa078dd-86bd-4966-a975-e2ccf8e666ed",
   "metadata": {},
   "outputs": [
    {
     "data": {
      "text/plain": [
       "[11, 12, 13, 14, 15, 16]"
      ]
     },
     "execution_count": 14,
     "metadata": {},
     "output_type": "execute_result"
    }
   ],
   "source": [
    " list(map(lambda a : a+10,l))"
   ]
  },
  {
   "cell_type": "code",
   "execution_count": 15,
   "id": "9bc71d84-bd33-445d-b196-96c78161a649",
   "metadata": {},
   "outputs": [],
   "source": [
    " n = lambda a:a+10"
   ]
  },
  {
   "cell_type": "code",
   "execution_count": 16,
   "id": "e8df7855-bd73-428c-b76b-e6ea0b677886",
   "metadata": {},
   "outputs": [
    {
     "data": {
      "text/plain": [
       "[11, 12, 13, 14, 15, 16]"
      ]
     },
     "execution_count": 16,
     "metadata": {},
     "output_type": "execute_result"
    }
   ],
   "source": [
    "list(map(n,l))"
   ]
  },
  {
   "cell_type": "code",
   "execution_count": 17,
   "id": "17b2b162-f984-4b64-b26b-d134cabb43d6",
   "metadata": {},
   "outputs": [],
   "source": [
    "l = [\"gur\",\"ansh\",\"singh\"]"
   ]
  },
  {
   "cell_type": "code",
   "execution_count": 18,
   "id": "a6ceb210-7854-41fd-b404-e946a7518a2e",
   "metadata": {},
   "outputs": [],
   "source": [
    "l1=[]\n",
    "for i in l:\n",
    "    l1.append(i.upper())"
   ]
  },
  {
   "cell_type": "code",
   "execution_count": 19,
   "id": "f2ea3d8e-1d1e-491d-a349-76df759f8fd6",
   "metadata": {},
   "outputs": [
    {
     "data": {
      "text/plain": [
       "['GUR', 'ANSH', 'SINGH']"
      ]
     },
     "execution_count": 19,
     "metadata": {},
     "output_type": "execute_result"
    }
   ],
   "source": [
    "l1"
   ]
  },
  {
   "cell_type": "code",
   "execution_count": 20,
   "id": "0802d0fb-493b-423f-b781-9c7bb6b76b6a",
   "metadata": {},
   "outputs": [
    {
     "data": {
      "text/plain": [
       "['GUR', 'ANSH', 'SINGH']"
      ]
     },
     "execution_count": 20,
     "metadata": {},
     "output_type": "execute_result"
    }
   ],
   "source": [
    "list(map(lambda a : a.upper(),l))"
   ]
  },
  {
   "cell_type": "code",
   "execution_count": 21,
   "id": "1ab6fa9f-6531-4336-93ce-096100caaa6b",
   "metadata": {},
   "outputs": [
    {
     "data": {
      "text/plain": [
       "['GUR', 'ANSH', 'SINGH']"
      ]
     },
     "execution_count": 21,
     "metadata": {},
     "output_type": "execute_result"
    }
   ],
   "source": [
    "list(map(str.upper,l))"
   ]
  },
  {
   "cell_type": "code",
   "execution_count": 22,
   "id": "95efade5-8c2a-4d9f-a76d-a01c06904da7",
   "metadata": {},
   "outputs": [],
   "source": [
    "def upper_string(a):\n",
    "    return a.upper()"
   ]
  },
  {
   "cell_type": "code",
   "execution_count": 23,
   "id": "7f5bedb4-49a7-48b0-8613-46340fced60d",
   "metadata": {},
   "outputs": [
    {
     "data": {
      "text/plain": [
       "['GUR', 'ANSH', 'SINGH']"
      ]
     },
     "execution_count": 23,
     "metadata": {},
     "output_type": "execute_result"
    }
   ],
   "source": [
    "list(map(upper_string,l))"
   ]
  },
  {
   "cell_type": "code",
   "execution_count": 24,
   "id": "04749ee3-8f41-4349-86b8-be3872c97e3f",
   "metadata": {},
   "outputs": [
    {
     "data": {
      "text/plain": [
       "['gur', 'ansh', 'singh']"
      ]
     },
     "execution_count": 24,
     "metadata": {},
     "output_type": "execute_result"
    }
   ],
   "source": [
    "l"
   ]
  },
  {
   "cell_type": "code",
   "execution_count": 25,
   "id": "d3c8c982-c0b5-4dfd-a181-6b11c8dd8c00",
   "metadata": {},
   "outputs": [
    {
     "data": {
      "text/plain": [
       "[3, 4, 5]"
      ]
     },
     "execution_count": 25,
     "metadata": {},
     "output_type": "execute_result"
    }
   ],
   "source": [
    "list(map(len,l))"
   ]
  },
  {
   "cell_type": "code",
   "execution_count": 26,
   "id": "1a54cbbb-6c09-4a14-8ba8-0dea0656273e",
   "metadata": {},
   "outputs": [
    {
     "data": {
      "text/plain": [
       "[3, 4, 5]"
      ]
     },
     "execution_count": 26,
     "metadata": {},
     "output_type": "execute_result"
    }
   ],
   "source": [
    "list(map(lambda a:len(a),l))"
   ]
  },
  {
   "cell_type": "code",
   "execution_count": 27,
   "id": "ecdea7b7-1ead-4451-98f2-aabce8989254",
   "metadata": {},
   "outputs": [],
   "source": [
    "def test23(a):\n",
    "    return len(a)"
   ]
  },
  {
   "cell_type": "code",
   "execution_count": 28,
   "id": "b84cc62d-d21e-41f8-9d5c-dfdcfbd7fe2c",
   "metadata": {},
   "outputs": [
    {
     "data": {
      "text/plain": [
       "[3, 4, 5]"
      ]
     },
     "execution_count": 28,
     "metadata": {},
     "output_type": "execute_result"
    }
   ],
   "source": [
    "list(map(test23,l))"
   ]
  },
  {
   "cell_type": "code",
   "execution_count": 29,
   "id": "edb0e367-c7ab-421e-ac33-4a74ab8a9a77",
   "metadata": {},
   "outputs": [],
   "source": [
    "l = [1,2,3,4,5,6,7,8]\n",
    "l1 = []\n",
    "for i in l:\n",
    "    if i%2 == 0:\n",
    "        l1.append(i)"
   ]
  },
  {
   "cell_type": "code",
   "execution_count": 30,
   "id": "5051e4d8-9b8e-4638-a1f8-ba822251bb98",
   "metadata": {},
   "outputs": [
    {
     "data": {
      "text/plain": [
       "[2, 4, 6, 8]"
      ]
     },
     "execution_count": 30,
     "metadata": {},
     "output_type": "execute_result"
    }
   ],
   "source": [
    "l1"
   ]
  },
  {
   "cell_type": "code",
   "execution_count": 31,
   "id": "1b75c327-cce9-43d7-8dea-a7807970f821",
   "metadata": {},
   "outputs": [
    {
     "data": {
      "text/plain": [
       "[2, 4, 6, 8]"
      ]
     },
     "execution_count": 31,
     "metadata": {},
     "output_type": "execute_result"
    }
   ],
   "source": [
    "[i for i in l if i%2==0]"
   ]
  },
  {
   "cell_type": "code",
   "execution_count": 32,
   "id": "3a580554-7d02-4c58-9569-f31db0659589",
   "metadata": {},
   "outputs": [],
   "source": [
    "def test24(a):\n",
    "    l = []\n",
    "    if type(a) == list:\n",
    "        for i in a:\n",
    "            if i%2 == 0:\n",
    "                l.append(i)\n",
    "    return l"
   ]
  },
  {
   "cell_type": "code",
   "execution_count": 33,
   "id": "2eb16c21-f133-4649-97c6-816fcb72af1f",
   "metadata": {},
   "outputs": [
    {
     "data": {
      "text/plain": [
       "[2, 4, 6, 8]"
      ]
     },
     "execution_count": 33,
     "metadata": {},
     "output_type": "execute_result"
    }
   ],
   "source": [
    "test24(l)"
   ]
  },
  {
   "cell_type": "code",
   "execution_count": 34,
   "id": "fcdc4e1c-7496-49c9-bf06-adc004039e61",
   "metadata": {},
   "outputs": [],
   "source": [
    "a = lambda a : a if a%2 == 0 else None"
   ]
  },
  {
   "cell_type": "code",
   "execution_count": 35,
   "id": "88479af8-923f-448e-a3cb-b1c7c9d5cacd",
   "metadata": {},
   "outputs": [
    {
     "data": {
      "text/plain": [
       "[None, 2, None, 4, None, 6, None, 8]"
      ]
     },
     "execution_count": 35,
     "metadata": {},
     "output_type": "execute_result"
    }
   ],
   "source": [
    "list(map(a,l))"
   ]
  },
  {
   "cell_type": "code",
   "execution_count": 36,
   "id": "1ba09a6a-5469-456e-97e4-87ea3a305843",
   "metadata": {},
   "outputs": [
    {
     "data": {
      "text/plain": [
       "[2, 4, 6, 8]"
      ]
     },
     "execution_count": 36,
     "metadata": {},
     "output_type": "execute_result"
    }
   ],
   "source": [
    "list(filter(a,l))"
   ]
  },
  {
   "cell_type": "code",
   "execution_count": 39,
   "id": "a560d553-3dd2-46f8-bbc9-94aa025bbf44",
   "metadata": {},
   "outputs": [],
   "source": [
    "def test25(a):\n",
    "    if a%2 == 0:\n",
    "        return True\n",
    "    else:\n",
    "        return False"
   ]
  },
  {
   "cell_type": "code",
   "execution_count": 40,
   "id": "c1de0fbb-283c-49fb-9641-04d43a5d0995",
   "metadata": {},
   "outputs": [
    {
     "data": {
      "text/plain": [
       "True"
      ]
     },
     "execution_count": 40,
     "metadata": {},
     "output_type": "execute_result"
    }
   ],
   "source": [
    "test25(32)"
   ]
  },
  {
   "cell_type": "code",
   "execution_count": 41,
   "id": "176ffc18-bd2b-4b24-83f8-42fb28a5842f",
   "metadata": {},
   "outputs": [
    {
     "data": {
      "text/plain": [
       "False"
      ]
     },
     "execution_count": 41,
     "metadata": {},
     "output_type": "execute_result"
    }
   ],
   "source": [
    "test25(33)"
   ]
  },
  {
   "cell_type": "code",
   "execution_count": 42,
   "id": "47e861a7-23b5-4847-98d7-a1213d3c5380",
   "metadata": {},
   "outputs": [
    {
     "data": {
      "text/plain": [
       "[2, 4, 6, 8]"
      ]
     },
     "execution_count": 42,
     "metadata": {},
     "output_type": "execute_result"
    }
   ],
   "source": [
    "list(filter(test25,l))"
   ]
  },
  {
   "cell_type": "code",
   "execution_count": 43,
   "id": "ff1da71d-dda4-4c3d-8828-83412d858b7e",
   "metadata": {},
   "outputs": [
    {
     "data": {
      "text/plain": [
       "36"
      ]
     },
     "execution_count": 43,
     "metadata": {},
     "output_type": "execute_result"
    }
   ],
   "source": [
    " sum(l)"
   ]
  },
  {
   "cell_type": "code",
   "execution_count": 44,
   "id": "41d8bbf6-246c-402e-85d4-1839d5193299",
   "metadata": {},
   "outputs": [],
   "source": [
    "from functools import reduce"
   ]
  },
  {
   "cell_type": "code",
   "execution_count": 45,
   "id": "89307025-f1a5-4a44-889d-8c5bf1cb4076",
   "metadata": {},
   "outputs": [
    {
     "data": {
      "text/plain": [
       "40320"
      ]
     },
     "execution_count": 45,
     "metadata": {},
     "output_type": "execute_result"
    }
   ],
   "source": [
    "reduce(lambda a,b : a*b,l)"
   ]
  },
  {
   "cell_type": "code",
   "execution_count": 46,
   "id": "c2008bab-4fb0-4cf3-9f00-6b88a7f4c2b7",
   "metadata": {},
   "outputs": [
    {
     "ename": "TypeError",
     "evalue": "<lambda>() missing 1 required positional argument: 'c'",
     "output_type": "error",
     "traceback": [
      "\u001b[0;31m---------------------------------------------------------------------------\u001b[0m",
      "\u001b[0;31mTypeError\u001b[0m                                 Traceback (most recent call last)",
      "Cell \u001b[0;32mIn [46], line 1\u001b[0m\n\u001b[0;32m----> 1\u001b[0m \u001b[43mreduce\u001b[49m\u001b[43m(\u001b[49m\u001b[38;5;28;43;01mlambda\u001b[39;49;00m\u001b[43m \u001b[49m\u001b[43ma\u001b[49m\u001b[43m,\u001b[49m\u001b[43mb\u001b[49m\u001b[43m,\u001b[49m\u001b[43mc\u001b[49m\u001b[43m \u001b[49m\u001b[43m:\u001b[49m\u001b[43m \u001b[49m\u001b[43ma\u001b[49m\u001b[38;5;241;43m*\u001b[39;49m\u001b[43mb\u001b[49m\u001b[38;5;241;43m*\u001b[39;49m\u001b[43mc\u001b[49m\u001b[43m,\u001b[49m\u001b[43ml\u001b[49m\u001b[43m)\u001b[49m\n",
      "\u001b[0;31mTypeError\u001b[0m: <lambda>() missing 1 required positional argument: 'c'"
     ]
    }
   ],
   "source": [
    "reduce(lambda a,b,c : a*b*c,l)"
   ]
  },
  {
   "cell_type": "code",
   "execution_count": 47,
   "id": "03d94ce9-31de-4e80-a22a-f930fb5ab226",
   "metadata": {},
   "outputs": [
    {
     "data": {
      "text/plain": [
       "3"
      ]
     },
     "execution_count": 47,
     "metadata": {},
     "output_type": "execute_result"
    }
   ],
   "source": [
    "l1 = [3]\n",
    "reduce(lambda a,b : a*b,l1)"
   ]
  },
  {
   "cell_type": "code",
   "execution_count": 48,
   "id": "80c4e3aa-7e53-40fa-a294-b52186ef502b",
   "metadata": {},
   "outputs": [],
   "source": [
    "def test26():\n",
    "    '''this is my doc string'''\n",
    "    return \"this is my func\""
   ]
  },
  {
   "cell_type": "code",
   "execution_count": 49,
   "id": "c42b11b7-647d-4444-8399-dd4d5e603ce2",
   "metadata": {},
   "outputs": [
    {
     "data": {
      "text/plain": [
       "'this is my func'"
      ]
     },
     "execution_count": 49,
     "metadata": {},
     "output_type": "execute_result"
    }
   ],
   "source": [
    "test26()"
   ]
  },
  {
   "cell_type": "code",
   "execution_count": 52,
   "id": "91c31ff1-485a-4276-a97e-9b609a8d2089",
   "metadata": {},
   "outputs": [],
   "source": [
    "def test26(a : int ,b : \"func\" ,c : int) -> int:\n",
    "    '''this is my doc string'''\n",
    "    return a + b + str(c)"
   ]
  },
  {
   "cell_type": "code",
   "execution_count": 53,
   "id": "78d16bea-6f57-4692-9931-a880bd9fe7f3",
   "metadata": {},
   "outputs": [
    {
     "data": {
      "text/plain": [
       "'guransh156'"
      ]
     },
     "execution_count": 53,
     "metadata": {},
     "output_type": "execute_result"
    }
   ],
   "source": [
    "test26(\"gur\",\"ansh\",156)"
   ]
  },
  {
   "cell_type": "code",
   "execution_count": null,
   "id": "fc62b6c3-2f22-47b7-8867-e00d327bac83",
   "metadata": {},
   "outputs": [],
   "source": []
  }
 ],
 "metadata": {
  "kernelspec": {
   "display_name": "Python 3 (ipykernel)",
   "language": "python",
   "name": "python3"
  },
  "language_info": {
   "codemirror_mode": {
    "name": "ipython",
    "version": 3
   },
   "file_extension": ".py",
   "mimetype": "text/x-python",
   "name": "python",
   "nbconvert_exporter": "python",
   "pygments_lexer": "ipython3",
   "version": "3.10.6"
  }
 },
 "nbformat": 4,
 "nbformat_minor": 5
}
