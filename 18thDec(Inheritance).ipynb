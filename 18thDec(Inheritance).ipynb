{
 "cells": [
  {
   "cell_type": "code",
   "execution_count": 1,
   "id": "d6a0a88f",
   "metadata": {},
   "outputs": [],
   "source": [
    "#Single Inheritance\n",
    "class Ineuron:\n",
    "    company_website=\"https://ineuron.ai\"\n",
    "    name='Ineuron'\n",
    "    \n",
    "    def contact_details(self):\n",
    "        print(\"Contact us at\",self.company_website)\n",
    "        \n",
    "class Datascience(Ineuron):\n",
    "    def __init__(self):\n",
    "        self.year_of_estb = 2018\n",
    "    \n",
    "    def est_details(self):\n",
    "        print(\"est details\",self.name,self.year,year_of_estb)"
   ]
  },
  {
   "cell_type": "code",
   "execution_count": 2,
   "id": "e8c49ac7",
   "metadata": {},
   "outputs": [],
   "source": [
    "# creating an object\n",
    "ds=Datascience()"
   ]
  },
  {
   "cell_type": "code",
   "execution_count": 3,
   "id": "163ee160",
   "metadata": {},
   "outputs": [
    {
     "data": {
      "text/plain": [
       "'https://ineuron.ai'"
      ]
     },
     "execution_count": 3,
     "metadata": {},
     "output_type": "execute_result"
    }
   ],
   "source": [
    "ds.company_website"
   ]
  },
  {
   "cell_type": "code",
   "execution_count": 5,
   "id": "78bec536",
   "metadata": {},
   "outputs": [
    {
     "name": "stdout",
     "output_type": "stream",
     "text": [
      "Contact us at https://ineuron.ai\n"
     ]
    }
   ],
   "source": [
    "ds.contact_details()"
   ]
  },
  {
   "cell_type": "code",
   "execution_count": 6,
   "id": "03734f85",
   "metadata": {},
   "outputs": [],
   "source": [
    "# Multiple Inheritance\n",
    "class Parent1:\n",
    "    def func1(self):\n",
    "        print(\"Hello from parent class\")\n",
    "\n",
    "class Parent2:\n",
    "    def func2(self):\n",
    "        print(\"Hello from parent class 2\")\n",
    "        \n",
    "class child(Parent1,Parent2):\n",
    "    def func3(self):\n",
    "        print(\"Hello child\")"
   ]
  },
  {
   "cell_type": "code",
   "execution_count": 7,
   "id": "8b00997b",
   "metadata": {},
   "outputs": [],
   "source": [
    "test=child()   #creating an object"
   ]
  },
  {
   "cell_type": "code",
   "execution_count": 9,
   "id": "678be23b",
   "metadata": {},
   "outputs": [
    {
     "name": "stdout",
     "output_type": "stream",
     "text": [
      "Hello from parent class 2\n"
     ]
    }
   ],
   "source": [
    "test.func2()"
   ]
  },
  {
   "cell_type": "code",
   "execution_count": 12,
   "id": "e62d517b",
   "metadata": {},
   "outputs": [],
   "source": [
    "# Multiple Inheritance Example 2\n",
    "#parent class 1\n",
    "class Batch_number:\n",
    "    batchno=\"\"\n",
    "    def __init__(self,a,b,c):\n",
    "        self.a=a\n",
    "        self.b=b\n",
    "        self.c=c\n",
    "    \n",
    "    def batch(self):\n",
    "        print(\"self.batchno\")\n",
    "        \n",
    "#parent class 2\n",
    "class course_name:\n",
    "    cname=\"\"\n",
    "    def course(self):\n",
    "        print(self.name)\n",
    "        \n",
    "#child class\n",
    "class student(Batch_number,course_name):\n",
    "    def show(self):\n",
    "        print(\"batch\",self.batchno)\n",
    "        print(\"course\",self.cname)\n",
    "        "
   ]
  },
  {
   "cell_type": "code",
   "execution_count": 13,
   "id": "d1e90a5f",
   "metadata": {},
   "outputs": [],
   "source": [
    "s1=student(4,8,9)"
   ]
  },
  {
   "cell_type": "code",
   "execution_count": 14,
   "id": "70320797",
   "metadata": {},
   "outputs": [],
   "source": [
    "s1.batchno=\"2\""
   ]
  },
  {
   "cell_type": "code",
   "execution_count": 15,
   "id": "6db97a77",
   "metadata": {},
   "outputs": [],
   "source": [
    "s1.cname=\"fsds\""
   ]
  },
  {
   "cell_type": "code",
   "execution_count": 18,
   "id": "a00d8852",
   "metadata": {},
   "outputs": [
    {
     "name": "stdout",
     "output_type": "stream",
     "text": [
      "batch 2\n",
      "course fsds\n"
     ]
    }
   ],
   "source": [
    "s1.show()"
   ]
  },
  {
   "cell_type": "code",
   "execution_count": 20,
   "id": "7d42d64b",
   "metadata": {},
   "outputs": [],
   "source": [
    "#Multilevel Inheritance\n",
    "class test1:\n",
    "    def a(self):\n",
    "        print(\"Inside test1.....\")\n",
    "\n",
    "class test2(test1):\n",
    "    def b(self):\n",
    "        print(\"Inside test2.....\")\n",
    "        \n",
    "class test3(test2):\n",
    "    def c(self):\n",
    "        print(\"Inside test3....\")"
   ]
  },
  {
   "cell_type": "code",
   "execution_count": 21,
   "id": "b2d5179c",
   "metadata": {},
   "outputs": [],
   "source": [
    "t1=test3()"
   ]
  },
  {
   "cell_type": "code",
   "execution_count": 22,
   "id": "1fad6147",
   "metadata": {},
   "outputs": [
    {
     "name": "stdout",
     "output_type": "stream",
     "text": [
      "Inside test1.....\n"
     ]
    }
   ],
   "source": [
    "t1.a()"
   ]
  },
  {
   "cell_type": "code",
   "execution_count": 23,
   "id": "e1e822a0",
   "metadata": {},
   "outputs": [
    {
     "name": "stdout",
     "output_type": "stream",
     "text": [
      "Inside test3....\n"
     ]
    }
   ],
   "source": [
    "t1.c()"
   ]
  },
  {
   "cell_type": "code",
   "execution_count": 24,
   "id": "0548dd92",
   "metadata": {},
   "outputs": [],
   "source": [
    "#Example Multilevel\n",
    "class vehicle:\n",
    "    def info(self):\n",
    "        print(\"Inside vehicle class\")\n",
    "\n",
    "class car(vehicle):\n",
    "    def car_info(self):\n",
    "        print(\"Inside car class\")\n",
    "        \n",
    "class sportscar(car):\n",
    "    def sportcar(self):\n",
    "        print(\"Inside sports car\")"
   ]
  },
  {
   "cell_type": "code",
   "execution_count": 25,
   "id": "31e43323",
   "metadata": {},
   "outputs": [],
   "source": [
    "s1=sportscar()"
   ]
  },
  {
   "cell_type": "code",
   "execution_count": 26,
   "id": "b9ec4c61",
   "metadata": {},
   "outputs": [
    {
     "name": "stdout",
     "output_type": "stream",
     "text": [
      "Inside car class\n"
     ]
    }
   ],
   "source": [
    "s1.car_info()"
   ]
  },
  {
   "cell_type": "code",
   "execution_count": 27,
   "id": "135ac204",
   "metadata": {},
   "outputs": [],
   "source": [
    "s2=vehicle()"
   ]
  },
  {
   "cell_type": "code",
   "execution_count": 28,
   "id": "b46fda2c",
   "metadata": {},
   "outputs": [
    {
     "name": "stdout",
     "output_type": "stream",
     "text": [
      "Inside vehicle class\n"
     ]
    }
   ],
   "source": [
    "s2.info()"
   ]
  },
  {
   "cell_type": "code",
   "execution_count": 36,
   "id": "2702c106",
   "metadata": {},
   "outputs": [],
   "source": [
    "#Very Important Example\n",
    "class Phones:\n",
    "    def __init__(self,brand,model,price):\n",
    "        self.brand=brand\n",
    "        self.model=model\n",
    "        self.price=price\n",
    "        \n",
    "    def specs(self):\n",
    "        return(\"Brand\",self.brand,\"price\",self.price)\n",
    "    \n",
    "    def typeofphone(self):\n",
    "        if self.price > 25000:\n",
    "            return \"This is a budget phone\"\n",
    "        else:\n",
    "            return \"this is mid range phone\"\n",
    "        \n",
    "class smartphone(Phones):\n",
    "    def __init__(self,brand,model,price,ram,storage):\n",
    "        super().__init__(brand,model,price)\n",
    "        self.ram=ram\n",
    "        self.storage=storage\n",
    "        \n",
    "class Flashiphone(smartphone):\n",
    "    def __init__(self,brand,model,price,ram,storage,frontcamera,backcamera,display):\n",
    "        super().__init__(brand,model,price,ram,storage)\n",
    "        self.frontcamera=frontcamera\n",
    "        self.backcamera=backcamera\n",
    "        self.display=display"
   ]
  },
  {
   "cell_type": "code",
   "execution_count": 37,
   "id": "2b71e15d",
   "metadata": {},
   "outputs": [],
   "source": [
    "p1=Flashiphone(\"Apple\",\"14Pro\",150000,256,60,\"yes\",\"yes\",\"yes\")"
   ]
  },
  {
   "cell_type": "code",
   "execution_count": 39,
   "id": "4868b0be",
   "metadata": {},
   "outputs": [
    {
     "data": {
      "text/plain": [
       "'Apple'"
      ]
     },
     "execution_count": 39,
     "metadata": {},
     "output_type": "execute_result"
    }
   ],
   "source": [
    "p1.brand"
   ]
  },
  {
   "cell_type": "code",
   "execution_count": 40,
   "id": "d0ad0eb1",
   "metadata": {},
   "outputs": [
    {
     "data": {
      "text/plain": [
       "'14Pro'"
      ]
     },
     "execution_count": 40,
     "metadata": {},
     "output_type": "execute_result"
    }
   ],
   "source": [
    "p1.model"
   ]
  },
  {
   "cell_type": "code",
   "execution_count": 66,
   "id": "3bc4fc67",
   "metadata": {},
   "outputs": [],
   "source": [
    "# Hierachichal Inheritance\n",
    "class vehicle:\n",
    "    def info(self):\n",
    "        print(\"This is vehicle\")\n",
    "        \n",
    "class car(vehicle):\n",
    "    def car_info(self,name):\n",
    "        print(\"Car name\",name)\n",
    "        \n",
    "class truck(vehicle):\n",
    "    def truck_info(self,name):\n",
    "        print(\"truckname\",name)"
   ]
  },
  {
   "cell_type": "code",
   "execution_count": 67,
   "id": "5ebb50cc",
   "metadata": {},
   "outputs": [],
   "source": [
    "s1=car()"
   ]
  },
  {
   "cell_type": "code",
   "execution_count": 68,
   "id": "9979400a",
   "metadata": {},
   "outputs": [
    {
     "name": "stdout",
     "output_type": "stream",
     "text": [
      "This is vehicle\n"
     ]
    }
   ],
   "source": [
    "s1.info()"
   ]
  },
  {
   "cell_type": "code",
   "execution_count": 69,
   "id": "a44d3aef",
   "metadata": {},
   "outputs": [],
   "source": [
    "t1=truck()"
   ]
  },
  {
   "cell_type": "code",
   "execution_count": 70,
   "id": "d9261c44",
   "metadata": {},
   "outputs": [
    {
     "name": "stdout",
     "output_type": "stream",
     "text": [
      "truckname tata\n"
     ]
    }
   ],
   "source": [
    "t1.truck_info('tata')"
   ]
  },
  {
   "cell_type": "code",
   "execution_count": 71,
   "id": "ba1aeffa",
   "metadata": {},
   "outputs": [],
   "source": [
    "#Hybrid Inheritance\n",
    "class vehicle:\n",
    "    def info(self):\n",
    "        print(\"This is vehicle\")\n",
    "        \n",
    "class car(vehicle):\n",
    "    def car_info(self,name):\n",
    "        print(\"Car name\",name)\n",
    "        \n",
    "class truck(vehicle):\n",
    "    def truck_info(self,name):\n",
    "        print(\"truckname\",name)\n",
    "        \n",
    "class sportscar(car,vehicle):\n",
    "    def sportcar(self):\n",
    "        print(\"inside from sports class\")"
   ]
  },
  {
   "cell_type": "code",
   "execution_count": 72,
   "id": "1c1372b6",
   "metadata": {},
   "outputs": [],
   "source": [
    "s3=sportscar()"
   ]
  },
  {
   "cell_type": "code",
   "execution_count": 74,
   "id": "b4f63e9c",
   "metadata": {},
   "outputs": [
    {
     "name": "stdout",
     "output_type": "stream",
     "text": [
      "inside from sports class\n"
     ]
    }
   ],
   "source": [
    "s3.sportcar()"
   ]
  },
  {
   "cell_type": "code",
   "execution_count": 75,
   "id": "a294d412",
   "metadata": {},
   "outputs": [],
   "source": [
    "#super function in python\n",
    "class company:\n",
    "    def company_name(self):\n",
    "        return \"ineuron\"\n",
    "    \n",
    "class Employee(company):\n",
    "    def info(self):\n",
    "        c_name=super().company_name()\n",
    "        print(\"i work at\",c_name)"
   ]
  },
  {
   "cell_type": "code",
   "execution_count": 76,
   "id": "187f75e5",
   "metadata": {},
   "outputs": [],
   "source": [
    "emp=Employee()"
   ]
  },
  {
   "cell_type": "code",
   "execution_count": 77,
   "id": "8a036f3f",
   "metadata": {},
   "outputs": [
    {
     "data": {
      "text/plain": [
       "'ineuron'"
      ]
     },
     "execution_count": 77,
     "metadata": {},
     "output_type": "execute_result"
    }
   ],
   "source": [
    "emp.company_name()"
   ]
  },
  {
   "cell_type": "code",
   "execution_count": 78,
   "id": "b341118d",
   "metadata": {},
   "outputs": [
    {
     "name": "stdout",
     "output_type": "stream",
     "text": [
      "i work at ineuron\n"
     ]
    }
   ],
   "source": [
    "emp.info()"
   ]
  },
  {
   "cell_type": "code",
   "execution_count": 79,
   "id": "cb29cc71",
   "metadata": {},
   "outputs": [],
   "source": [
    "class parent:\n",
    "    def __init__(self,v1,v2):\n",
    "        self.v1=v1\n",
    "        self.v2=v2\n",
    "        \n",
    "class child(parent):\n",
    "    def __init__(self,v1,v2,v3):\n",
    "        super().__init__(v1,v2)\n",
    "        self.v3=v3"
   ]
  },
  {
   "cell_type": "code",
   "execution_count": 80,
   "id": "a919cc8b",
   "metadata": {},
   "outputs": [],
   "source": [
    "c1=child(2,3,4)"
   ]
  },
  {
   "cell_type": "code",
   "execution_count": 81,
   "id": "75dd2b60",
   "metadata": {},
   "outputs": [
    {
     "data": {
      "text/plain": [
       "2"
      ]
     },
     "execution_count": 81,
     "metadata": {},
     "output_type": "execute_result"
    }
   ],
   "source": [
    "c1.v1"
   ]
  },
  {
   "cell_type": "code",
   "execution_count": null,
   "id": "32eb7b39",
   "metadata": {},
   "outputs": [],
   "source": [
    "class classname(parentclass):\n",
    "    def method(self,args):\n",
    "        super([classname],[self]).method(args)"
   ]
  },
  {
   "cell_type": "code",
   "execution_count": 100,
   "id": "d4d316d5",
   "metadata": {},
   "outputs": [],
   "source": [
    "class parent:\n",
    "    def __init__(self):\n",
    "        print(\"this is from parent class\")\n",
    "\n",
    "class parent1:\n",
    "    def __init__(self):\n",
    "        print(\"this is from parent1 class\")\n",
    "        \n",
    "class parent2:\n",
    "    def __init__(self):\n",
    "        print(\"this is from parent2 class\")\n",
    "        \n",
    "class child(parent1,parent2,parent):\n",
    "    def __init__(self):\n",
    "        super(child,self).__init__()"
   ]
  },
  {
   "cell_type": "code",
   "execution_count": 101,
   "id": "7164f101",
   "metadata": {},
   "outputs": [
    {
     "name": "stdout",
     "output_type": "stream",
     "text": [
      "this is from parent1 class\n"
     ]
    }
   ],
   "source": [
    "t1=child()"
   ]
  },
  {
   "cell_type": "code",
   "execution_count": null,
   "id": "c5d34ce0",
   "metadata": {},
   "outputs": [],
   "source": []
  }
 ],
 "metadata": {
  "kernelspec": {
   "display_name": "Python 3 (ipykernel)",
   "language": "python",
   "name": "python3"
  },
  "language_info": {
   "codemirror_mode": {
    "name": "ipython",
    "version": 3
   },
   "file_extension": ".py",
   "mimetype": "text/x-python",
   "name": "python",
   "nbconvert_exporter": "python",
   "pygments_lexer": "ipython3",
   "version": "3.10.6"
  }
 },
 "nbformat": 4,
 "nbformat_minor": 5
}
