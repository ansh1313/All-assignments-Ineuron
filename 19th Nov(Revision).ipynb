{
 "cells": [
  {
   "cell_type": "code",
   "execution_count": null,
   "id": "0618dece-6fb7-4948-a5f5-08fe5665e179",
   "metadata": {},
   "outputs": [],
   "source": [
    "# all the 50 questions will be doing today\n",
    "#1\n",
    "for i in range(5):\n",
    "    print(i+1)"
   ]
  },
  {
   "cell_type": "code",
   "execution_count": 6,
   "id": "2ebe308f-b8f6-44cb-99b0-a8745e6c74d3",
   "metadata": {},
   "outputs": [
    {
     "name": "stdout",
     "output_type": "stream",
     "text": [
      "*\n",
      "**\n",
      "***\n",
      "****\n",
      "*****\n"
     ]
    }
   ],
   "source": [
    "#2\n",
    "#for i in range(1,6):\n",
    " #   print(\"*\"*i)\n",
    "# other method\n",
    "for i in range(1,6):\n",
    "    for j in range(i):\n",
    "        print(\"*\",end = '')\n",
    "    print('')"
   ]
  },
  {
   "cell_type": "code",
   "execution_count": 7,
   "id": "e83ce693-42d6-4063-bfeb-1580dbf046b0",
   "metadata": {},
   "outputs": [
    {
     "name": "stdin",
     "output_type": "stream",
     "text": [
      " 2\n"
     ]
    },
    {
     "name": "stdout",
     "output_type": "stream",
     "text": [
      "4\n"
     ]
    }
   ],
   "source": [
    "#3\n",
    "n = int(input())\n",
    "print(n**2)\n"
   ]
  },
  {
   "cell_type": "code",
   "execution_count": 10,
   "id": "a1cd05ca-fa19-4008-9a7a-bd31b44e6b80",
   "metadata": {},
   "outputs": [
    {
     "name": "stdin",
     "output_type": "stream",
     "text": [
      " 7\n",
      " 6\n"
     ]
    },
    {
     "name": "stdout",
     "output_type": "stream",
     "text": [
      "13\n"
     ]
    }
   ],
   "source": [
    "#4\n",
    "a = int(input())\n",
    "b = int(input())\n",
    "print(a+b)"
   ]
  },
  {
   "cell_type": "code",
   "execution_count": 12,
   "id": "a35f3b05-4091-4291-b916-832c7a95b972",
   "metadata": {},
   "outputs": [
    {
     "name": "stdin",
     "output_type": "stream",
     "text": [
      " gur\n",
      " ansh\n"
     ]
    },
    {
     "name": "stdout",
     "output_type": "stream",
     "text": [
      "guransh\n"
     ]
    }
   ],
   "source": [
    "#5\n",
    "a = input()\n",
    "b = input()\n",
    "print(a+\"\"+b)"
   ]
  },
  {
   "cell_type": "code",
   "execution_count": 15,
   "id": "1659de33-c2a7-43b2-b3c3-b9fdce193031",
   "metadata": {},
   "outputs": [
    {
     "name": "stdin",
     "output_type": "stream",
     "text": [
      " DL7CAA0202\n"
     ]
    },
    {
     "name": "stdout",
     "output_type": "stream",
     "text": [
      "DL\n"
     ]
    }
   ],
   "source": [
    "#6\n",
    "x = input()\n",
    "#DL7CAA0202\n",
    "print(x[0:2])"
   ]
  },
  {
   "cell_type": "code",
   "execution_count": 20,
   "id": "b2b7d0ff-13ae-4dc9-bc79-573d16ffd01b",
   "metadata": {},
   "outputs": [
    {
     "name": "stdin",
     "output_type": "stream",
     "text": [
      " 12345\n"
     ]
    },
    {
     "data": {
      "text/plain": [
       "15"
      ]
     },
     "execution_count": 20,
     "metadata": {},
     "output_type": "execute_result"
    }
   ],
   "source": [
    "#7\n",
    "#num = input()\n",
    "#d1 = int(num[0])\n",
    "#d2 = int(num[1])\n",
    "#d3 = int(num[2])\n",
    "#d4 = int(num[3])\n",
    "#d5 = int(num[4])\n",
    "#dsum = d1+d2+d3+d4+d5\n",
    "#print(dsum)\n",
    "# other method\n",
    "a = input()\n",
    "count = 0\n",
    "for i in (a):\n",
    "    count += int(i)\n",
    "count"
   ]
  },
  {
   "cell_type": "code",
   "execution_count": 25,
   "id": "dc7d6ec0-5ac7-460a-a846-cae085b4b300",
   "metadata": {},
   "outputs": [
    {
     "name": "stdin",
     "output_type": "stream",
     "text": [
      " i\n",
      " write\n",
      " code\n",
      " in\n",
      " inuerob\n"
     ]
    }
   ],
   "source": [
    "#8\n",
    "word1 = input()\n",
    "word2 = input()\n",
    "word3 = input()\n",
    "word4 = input()\n",
    "word5 = input()\n",
    "space =\" \"\n",
    "stop =\".\"\n",
    "sentence = word1 + space + word2 + space + word3 + space + word4 + space + word5 + space + stop\n"
   ]
  },
  {
   "cell_type": "code",
   "execution_count": 26,
   "id": "a40d08c5-41e5-4cbb-aebc-605d2e3d1542",
   "metadata": {},
   "outputs": [
    {
     "name": "stdout",
     "output_type": "stream",
     "text": [
      "i write code in inuerob .\n"
     ]
    }
   ],
   "source": [
    "print(sentence)"
   ]
  },
  {
   "cell_type": "code",
   "execution_count": 27,
   "id": "e8da0ff0-06cf-417c-b294-eff1c781dd95",
   "metadata": {},
   "outputs": [
    {
     "name": "stdin",
     "output_type": "stream",
     "text": [
      " 13-05-1999\n"
     ]
    },
    {
     "name": "stdout",
     "output_type": "stream",
     "text": [
      "1999\n"
     ]
    }
   ],
   "source": [
    "#9\n",
    "date = input()\n",
    "year = date[-4:]\n",
    "print(year)"
   ]
  },
  {
   "cell_type": "code",
   "execution_count": 34,
   "id": "692fc0fc-59b7-4f70-8b4f-6f692f89fac9",
   "metadata": {},
   "outputs": [
    {
     "name": "stdin",
     "output_type": "stream",
     "text": [
      " 12345\n"
     ]
    },
    {
     "name": "stdout",
     "output_type": "stream",
     "text": [
      "120\n"
     ]
    }
   ],
   "source": [
    "#10\n",
    "#inp_num = [1,2,3,4,5]\n",
    "#prod = 1\n",
    "#for i in inp_num:\n",
    " #   if i != ',':\n",
    "  #      prod = prod * int(i)\n",
    "#print(prod)\n",
    "# other method\n",
    "num = input()\n",
    "d1 = int(num[0])\n",
    "d2 = int(num[1])\n",
    "d3 = int(num[2])\n",
    "d4 = int(num[3])\n",
    "d5 = int(num[4])\n",
    "dsum = d1*d2*d3*d4*d5\n",
    "print(dsum)"
   ]
  },
  {
   "cell_type": "code",
   "execution_count": 4,
   "id": "b22eee8b-3ed2-46ea-bae7-fe724b0e7563",
   "metadata": {},
   "outputs": [
    {
     "name": "stdin",
     "output_type": "stream",
     "text": [
      " 5\n",
      " 2\n"
     ]
    },
    {
     "name": "stdout",
     "output_type": "stream",
     "text": [
      "25\n",
      "2\n"
     ]
    }
   ],
   "source": [
    "#11\n",
    "x = int(input())\n",
    "y = int(input())\n",
    "res = x**y\n",
    "print(res)\n",
    "my_str = str(res)\n",
    "print(len(my_str))"
   ]
  },
  {
   "cell_type": "code",
   "execution_count": 44,
   "id": "be7fa768-4c82-45eb-87cb-a1db7265feb8",
   "metadata": {},
   "outputs": [
    {
     "name": "stdin",
     "output_type": "stream",
     "text": [
      " hi.\n"
     ]
    },
    {
     "name": "stdout",
     "output_type": "stream",
     "text": [
      "hi.\n"
     ]
    }
   ],
   "source": [
    "#12\n",
    "s = input()\n",
    "n = len(s)\n",
    "if n%2 == 0:\n",
    "    if s[n-1] =='.':\n",
    "        s = s[:-1]\n",
    "    else:\n",
    "        s = s+'.'\n",
    "n = int((len(s)-1)/2)\n",
    "print(s[n-1: n+2])"
   ]
  },
  {
   "cell_type": "code",
   "execution_count": 46,
   "id": "5dd932ad-882a-429b-a97c-23b95a7e47cb",
   "metadata": {},
   "outputs": [
    {
     "name": "stdin",
     "output_type": "stream",
     "text": [
      " 3\n",
      " 4\n",
      " 5\n"
     ]
    },
    {
     "name": "stdout",
     "output_type": "stream",
     "text": [
      "yes\n"
     ]
    }
   ],
   "source": [
    "#13\n",
    "x = int(input())\n",
    "y = int(input())\n",
    "z = int(input())\n",
    "if ((x**2 + y**2 == z**2) or\n",
    "    (y**2 + z**2 == x**2) or\n",
    "    (z**2 + x**2 == y**2)):\n",
    "    print(\"yes\")\n",
    "else:\n",
    "    print(\"no\")"
   ]
  },
  {
   "cell_type": "code",
   "execution_count": null,
   "id": "2574e6f9-1593-41bb-bf9c-40a43d09215d",
   "metadata": {},
   "outputs": [],
   "source": [
    "#14\n",
    "emp1 = int(input())\n",
    "emp2 = int(input())\n",
    "emp3 = int(input())\n",
    "emp4 = int(input())\n",
    "emp5 = int(input())\n",
    "\n",
    "if ((emp1 + emp2) % 2 == 0 and\n",
    "    (emp2 + emp3) % 2 == 0 and\n",
    "    (emp3 + emp4) % 2 == 0 and\n",
    "    (emp4 + emp5) % 2 == 0 and\n",
    "    (emp5 + emp6) % 2 == 0):\n",
    "    print(\"Yes Meeting happend\")\n",
    "else:\n",
    "    print(\"No meetinf didn't happen\")\n",
    "\n"
   ]
  },
  {
   "cell_type": "code",
   "execution_count": null,
   "id": "54d16075-c251-4fa8-862e-733f6fee9470",
   "metadata": {},
   "outputs": [],
   "source": [
    "#15\n",
    "#n = input(\"enter the string:\")\n",
    "#lst = list(n)\n",
    "#print(lst)\n",
    "#vols = ['a','e','i','o','u']\n",
    "#out = []\n",
    "#for each in lst:\n",
    "#    if each in lst:\n",
    "#        out.append(each)\n",
    "#print(\"vowels found are:\")\n",
    "#print(set(out))\n",
    "\n",
    "# other method\n",
    "input_string = input().lower()\n",
    "vowels=\"\"\n",
    "if \"a\" in input_string:\n",
    "    vowels += \"a\"\n",
    "if \"e\" in input_string:\n",
    "    vowels += \"e\"\n",
    "if \"i\" in input_string:\n",
    "    vowels += \"i\"\n",
    "if \"o\" in input_string:\n",
    "    vowels += \"o\"\n",
    "if \"u\" in input_string:\n",
    "    vowels += \"u\"\n",
    "\n",
    "    if vowels != \"\":\n",
    "        print(vowels)\n",
    "    else:\n",
    "        print(\"None\")\n"
   ]
  },
  {
   "cell_type": "code",
   "execution_count": null,
   "id": "c3902975-ec9e-4d22-802c-5550c76c466f",
   "metadata": {},
   "outputs": [],
   "source": [
    "#16\n",
    "name1 = input(\"enter name\")\n",
    "dob1 = input(\"enter dob\")\n",
    "name2 = input(\"enter name2\")\n",
    "dob2 = input(\"enter dob2\")\n",
    "if dob1 == dob2:\n",
    "    if name < name2:\n",
    "        print(\"younger is\", name)\n",
    "    else:\n",
    "        print(\"younger is\", name2)\n",
    "if (dob1[-4:] < dob1[-4:]):\n",
    "    print(\"younger is\", name2)\n",
    "else:\n",
    "    print(\"younger is\",name)"
   ]
  },
  {
   "cell_type": "code",
   "execution_count": 1,
   "id": "c538f095-3725-4085-9008-5a8991b43f74",
   "metadata": {},
   "outputs": [
    {
     "name": "stdin",
     "output_type": "stream",
     "text": [
      " guransh\n",
      " 13-05-1999\n",
      " amu\n",
      " 29-07-2000\n"
     ]
    },
    {
     "name": "stdout",
     "output_type": "stream",
     "text": [
      "amu\n"
     ]
    }
   ],
   "source": [
    "n1 = input()\n",
    "d1 = input()\n",
    "n2 = input()\n",
    "d2 = input()\n",
    "if d1==d2:\n",
    "    if n1<n2:\n",
    "        print(n1)\n",
    "    else:\n",
    "        print(n2)\n",
    "elif d1[-4:] != d2[-4:]:\n",
    "    if int(d1[-4:]) < int(d2[-4:]):\n",
    "        print(n2)\n",
    "    else:\n",
    "        print(n1)\n",
    "elif d1[3:5] != d2[3:5]:\n",
    "    if int(d1[3:5]) < int(d2[3:5]):\n",
    "        print(n2)\n",
    "    else:\n",
    "        print(n1)\n",
    "elif d1[0:2] != d2[0:2]:\n",
    "    if int(d1[0:2]) < int(d2[0:2]):\n",
    "        print(n2)\n",
    "    else:\n",
    "        print(n1)"
   ]
  },
  {
   "cell_type": "code",
   "execution_count": 14,
   "id": "c7375d21-77bc-434e-91b0-4ec3c5d4be2d",
   "metadata": {},
   "outputs": [
    {
     "name": "stdin",
     "output_type": "stream",
     "text": [
      " nc12ec049\n"
     ]
    },
    {
     "name": "stdout",
     "output_type": "stream",
     "text": [
      "True\n"
     ]
    }
   ],
   "source": [
    "#17\n",
    "p = input()\n",
    "if 8 <=len(p) <= 32 and p[0].isalpha() and '/' not in p and '\\\\' not in p and '=' not in p and '\\'' not in p and '\\\"' not in p and ' ' not in p:\n",
    "    print(\"True\")\n",
    "else:\n",
    "    print(\"False\")"
   ]
  },
  {
   "cell_type": "code",
   "execution_count": 11,
   "id": "b4d0fba6-6a84-41da-9c6c-2e4dd6df8130",
   "metadata": {},
   "outputs": [
    {
     "name": "stdin",
     "output_type": "stream",
     "text": [
      " 5\n"
     ]
    },
    {
     "name": "stdout",
     "output_type": "stream",
     "text": [
      "1\n",
      "2\n",
      "3\n",
      "4\n",
      "5\n"
     ]
    }
   ],
   "source": [
    "#18\n",
    "n=int(input())\n",
    "for i in range(1,n+1):\n",
    "    print(i)"
   ]
  },
  {
   "cell_type": "code",
   "execution_count": 6,
   "id": "9852aa84-b156-4c7c-ba2e-bd794c8f6931",
   "metadata": {},
   "outputs": [
    {
     "name": "stdin",
     "output_type": "stream",
     "text": [
      " 14585\n"
     ]
    },
    {
     "name": "stdout",
     "output_type": "stream",
     "text": [
      "14585 not a prime no.\n"
     ]
    }
   ],
   "source": [
    "#19\n",
    "n=int(input())\n",
    "isprime = True\n",
    "if n ==1:\n",
    "    isprime = False\n",
    "else:\n",
    "    for i in range(2,n):\n",
    "        if n%i == 0:\n",
    "            isprime = False\n",
    "if isprime == True:\n",
    "    print(n,\"is a prime no.\")\n",
    "else:\n",
    "    print(n,\"not a prime no.\")\n",
    "            "
   ]
  },
  {
   "cell_type": "code",
   "execution_count": 5,
   "id": "9ae2ca27-a899-4ea9-903e-db43a98e6c47",
   "metadata": {},
   "outputs": [
    {
     "name": "stdin",
     "output_type": "stream",
     "text": [
      " sam\n",
      " ramu\n"
     ]
    },
    {
     "name": "stdout",
     "output_type": "stream",
     "text": [
      "ru\n"
     ]
    }
   ],
   "source": [
    "#20\n",
    "a = input()\n",
    "b = input()\n",
    "for c in a:\n",
    "    if c in b:\n",
    "        b = b.replace(c,'')\n",
    "print(b)"
   ]
  },
  {
   "cell_type": "code",
   "execution_count": null,
   "id": "58245ac2-0ebe-4a39-9bd1-5a55b36dfbeb",
   "metadata": {},
   "outputs": [],
   "source": []
  }
 ],
 "metadata": {
  "kernelspec": {
   "display_name": "Python 3 (ipykernel)",
   "language": "python",
   "name": "python3"
  },
  "language_info": {
   "codemirror_mode": {
    "name": "ipython",
    "version": 3
   },
   "file_extension": ".py",
   "mimetype": "text/x-python",
   "name": "python",
   "nbconvert_exporter": "python",
   "pygments_lexer": "ipython3",
   "version": "3.10.6"
  }
 },
 "nbformat": 4,
 "nbformat_minor": 5
}
